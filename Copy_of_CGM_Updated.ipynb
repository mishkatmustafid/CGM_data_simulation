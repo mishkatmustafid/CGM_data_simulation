{
  "nbformat": 4,
  "nbformat_minor": 0,
  "metadata": {
    "colab": {
      "provenance": []
    },
    "kernelspec": {
      "name": "python3",
      "display_name": "Python 3"
    },
    "language_info": {
      "name": "python"
    }
  },
  "cells": [
    {
      "cell_type": "code",
      "source": [
        "pip install pandas"
      ],
      "metadata": {
        "colab": {
          "base_uri": "https://localhost:8080/"
        },
        "id": "3ZjQFZ9dJRQt",
        "outputId": "9d1c7d0e-4aae-41cd-b1d2-84d2c30040c2"
      },
      "execution_count": null,
      "outputs": [
        {
          "output_type": "stream",
          "name": "stdout",
          "text": [
            "Requirement already satisfied: pandas in /usr/local/lib/python3.10/dist-packages (2.0.3)\n",
            "Requirement already satisfied: python-dateutil>=2.8.2 in /usr/local/lib/python3.10/dist-packages (from pandas) (2.8.2)\n",
            "Requirement already satisfied: pytz>=2020.1 in /usr/local/lib/python3.10/dist-packages (from pandas) (2023.3)\n",
            "Requirement already satisfied: tzdata>=2022.1 in /usr/local/lib/python3.10/dist-packages (from pandas) (2023.3)\n",
            "Requirement already satisfied: numpy>=1.21.0 in /usr/local/lib/python3.10/dist-packages (from pandas) (1.25.2)\n",
            "Requirement already satisfied: six>=1.5 in /usr/local/lib/python3.10/dist-packages (from python-dateutil>=2.8.2->pandas) (1.16.0)\n"
          ]
        }
      ]
    },
    {
      "cell_type": "code",
      "source": [
        "!pip uninstall numpy"
      ],
      "metadata": {
        "colab": {
          "base_uri": "https://localhost:8080/"
        },
        "id": "tzPBfhx-W5kl",
        "outputId": "7da0b53f-e509-4d22-e65b-41337c8079a9"
      },
      "execution_count": null,
      "outputs": [
        {
          "output_type": "stream",
          "name": "stdout",
          "text": [
            "Found existing installation: numpy 1.25.2\n",
            "Uninstalling numpy-1.25.2:\n",
            "  Would remove:\n",
            "    /usr/local/bin/f2py\n",
            "    /usr/local/bin/f2py3\n",
            "    /usr/local/bin/f2py3.10\n",
            "    /usr/local/lib/python3.10/dist-packages/numpy-1.25.2.dist-info/*\n",
            "    /usr/local/lib/python3.10/dist-packages/numpy.libs/libgfortran-040039e1.so.5.0.0\n",
            "    /usr/local/lib/python3.10/dist-packages/numpy.libs/libopenblas64_p-r0-5007b62f.3.23.dev.so\n",
            "    /usr/local/lib/python3.10/dist-packages/numpy.libs/libquadmath-96973f99.so.0.0.0\n",
            "    /usr/local/lib/python3.10/dist-packages/numpy/*\n",
            "Proceed (Y/n)? Y\n",
            "  Successfully uninstalled numpy-1.25.2\n"
          ]
        }
      ]
    },
    {
      "cell_type": "code",
      "source": [
        "pip install numpy"
      ],
      "metadata": {
        "colab": {
          "base_uri": "https://localhost:8080/"
        },
        "id": "vs-HfpwiJV_f",
        "outputId": "fdd8fa3a-5786-4698-a153-acddace53ea0"
      },
      "execution_count": null,
      "outputs": [
        {
          "output_type": "stream",
          "name": "stdout",
          "text": [
            "Requirement already satisfied: numpy in /usr/local/lib/python3.10/dist-packages (1.25.2)\n"
          ]
        }
      ]
    },
    {
      "cell_type": "code",
      "source": [
        "pip install simglucose"
      ],
      "metadata": {
        "colab": {
          "base_uri": "https://localhost:8080/"
        },
        "id": "P-8x8xSoof6r",
        "outputId": "2771b391-f352-4cf3-d103-b02347746c65"
      },
      "execution_count": null,
      "outputs": [
        {
          "output_type": "stream",
          "name": "stdout",
          "text": [
            "Requirement already satisfied: simglucose in /usr/local/lib/python3.10/dist-packages (0.2.4)\n",
            "Requirement already satisfied: certifi==2023.7.22 in /usr/local/lib/python3.10/dist-packages (from simglucose) (2023.7.22)\n",
            "Requirement already satisfied: charset-normalizer==3.2.0 in /usr/local/lib/python3.10/dist-packages (from simglucose) (3.2.0)\n",
            "Requirement already satisfied: cloudpickle==2.2.1 in /usr/local/lib/python3.10/dist-packages (from simglucose) (2.2.1)\n",
            "Requirement already satisfied: contourpy==1.1.0 in /usr/local/lib/python3.10/dist-packages (from simglucose) (1.1.0)\n",
            "Requirement already satisfied: cycler==0.11.0 in /usr/local/lib/python3.10/dist-packages (from simglucose) (0.11.0)\n",
            "Requirement already satisfied: dill==0.3.7 in /usr/local/lib/python3.10/dist-packages (from simglucose) (0.3.7)\n",
            "Requirement already satisfied: Farama-Notifications==0.0.4 in /usr/local/lib/python3.10/dist-packages (from simglucose) (0.0.4)\n",
            "Requirement already satisfied: fonttools==4.42.0 in /usr/local/lib/python3.10/dist-packages (from simglucose) (4.42.0)\n",
            "Requirement already satisfied: gym==0.9.4 in /usr/local/lib/python3.10/dist-packages (from simglucose) (0.9.4)\n",
            "Requirement already satisfied: gymnasium==0.29.1 in /usr/local/lib/python3.10/dist-packages (from simglucose) (0.29.1)\n",
            "Requirement already satisfied: idna==3.4 in /usr/local/lib/python3.10/dist-packages (from simglucose) (3.4)\n",
            "Requirement already satisfied: iniconfig==2.0.0 in /usr/local/lib/python3.10/dist-packages (from simglucose) (2.0.0)\n",
            "Requirement already satisfied: kiwisolver==1.4.4 in /usr/local/lib/python3.10/dist-packages (from simglucose) (1.4.4)\n",
            "Requirement already satisfied: matplotlib==3.7.2 in /usr/local/lib/python3.10/dist-packages (from simglucose) (3.7.2)\n",
            "Requirement already satisfied: multiprocess==0.70.15 in /usr/local/lib/python3.10/dist-packages (from simglucose) (0.70.15)\n",
            "Requirement already satisfied: numpy==1.25.2 in /usr/local/lib/python3.10/dist-packages (from simglucose) (1.25.2)\n",
            "Requirement already satisfied: packaging==23.1 in /usr/local/lib/python3.10/dist-packages (from simglucose) (23.1)\n",
            "Requirement already satisfied: pandas==2.0.3 in /usr/local/lib/python3.10/dist-packages (from simglucose) (2.0.3)\n",
            "Requirement already satisfied: pathos==0.3.1 in /usr/local/lib/python3.10/dist-packages (from simglucose) (0.3.1)\n",
            "Requirement already satisfied: Pillow==10.0.0 in /usr/local/lib/python3.10/dist-packages (from simglucose) (10.0.0)\n",
            "Requirement already satisfied: pluggy==1.2.0 in /usr/local/lib/python3.10/dist-packages (from simglucose) (1.2.0)\n",
            "Requirement already satisfied: pox==0.3.3 in /usr/local/lib/python3.10/dist-packages (from simglucose) (0.3.3)\n",
            "Requirement already satisfied: ppft==1.7.6.7 in /usr/local/lib/python3.10/dist-packages (from simglucose) (1.7.6.7)\n",
            "Requirement already satisfied: pyglet==2.0.9 in /usr/local/lib/python3.10/dist-packages (from simglucose) (2.0.9)\n",
            "Requirement already satisfied: pyparsing==3.0.9 in /usr/local/lib/python3.10/dist-packages (from simglucose) (3.0.9)\n",
            "Requirement already satisfied: pytest==7.4.0 in /usr/local/lib/python3.10/dist-packages (from simglucose) (7.4.0)\n",
            "Requirement already satisfied: python-dateutil==2.8.2 in /usr/local/lib/python3.10/dist-packages (from simglucose) (2.8.2)\n",
            "Requirement already satisfied: pytz==2023.3 in /usr/local/lib/python3.10/dist-packages (from simglucose) (2023.3)\n",
            "Requirement already satisfied: requests==2.31.0 in /usr/local/lib/python3.10/dist-packages (from simglucose) (2.31.0)\n",
            "Requirement already satisfied: scipy==1.11.1 in /usr/local/lib/python3.10/dist-packages (from simglucose) (1.11.1)\n",
            "Requirement already satisfied: six==1.16.0 in /usr/local/lib/python3.10/dist-packages (from simglucose) (1.16.0)\n",
            "Requirement already satisfied: typing-extensions==4.7.1 in /usr/local/lib/python3.10/dist-packages (from simglucose) (4.7.1)\n",
            "Requirement already satisfied: tzdata==2023.3 in /usr/local/lib/python3.10/dist-packages (from simglucose) (2023.3)\n",
            "Requirement already satisfied: urllib3==2.0.4 in /usr/local/lib/python3.10/dist-packages (from simglucose) (2.0.4)\n",
            "Requirement already satisfied: exceptiongroup>=1.0.0rc8 in /usr/local/lib/python3.10/dist-packages (from pytest==7.4.0->simglucose) (1.1.3)\n",
            "Requirement already satisfied: tomli>=1.0.0 in /usr/local/lib/python3.10/dist-packages (from pytest==7.4.0->simglucose) (2.0.1)\n"
          ]
        }
      ]
    },
    {
      "cell_type": "code",
      "source": [
        "pip install -e"
      ],
      "metadata": {
        "colab": {
          "base_uri": "https://localhost:8080/"
        },
        "id": "ZceKZspVJSAC",
        "outputId": "02ff1623-46c1-4de6-8919-a0b54693e293"
      },
      "execution_count": null,
      "outputs": [
        {
          "output_type": "stream",
          "name": "stdout",
          "text": [
            "\n",
            "Usage:   \n",
            "  pip3 install [options] <requirement specifier> [package-index-options] ...\n",
            "  pip3 install [options] -r <requirements file> [package-index-options] ...\n",
            "  pip3 install [options] [-e] <vcs project url> ...\n",
            "  pip3 install [options] [-e] <local project path> ...\n",
            "  pip3 install [options] <archive url/path> ...\n",
            "\n",
            "-e option requires 1 argument\n"
          ]
        }
      ]
    },
    {
      "cell_type": "code",
      "source": [
        "from simglucose.simulation.env import T1DSimEnv\n",
        "from simglucose.controller.basal_bolus_ctrller import BBController\n",
        "from simglucose.sensor.cgm import CGMSensor\n",
        "from simglucose.actuator.pump import InsulinPump\n",
        "from simglucose.patient.t1dpatient import T1DPatient\n",
        "from simglucose.simulation.scenario_gen import RandomScenario\n",
        "from simglucose.simulation.scenario import CustomScenario\n",
        "from simglucose.simulation.sim_engine import SimObj, sim, batch_sim\n",
        "from datetime import timedelta\n",
        "from datetime import datetime"
      ],
      "metadata": {
        "id": "MBwBuZSbXb5a",
        "colab": {
          "base_uri": "https://localhost:8080/",
          "height": 427
        },
        "outputId": "4dc58d45-e496-40c7-aed6-a8c620f78460"
      },
      "execution_count": null,
      "outputs": [
        {
          "output_type": "error",
          "ename": "AttributeError",
          "evalue": "ignored",
          "traceback": [
            "\u001b[0;31m---------------------------------------------------------------------------\u001b[0m",
            "\u001b[0;31mAttributeError\u001b[0m                            Traceback (most recent call last)",
            "\u001b[0;32m<ipython-input-6-091baf9f8d4a>\u001b[0m in \u001b[0;36m<cell line: 1>\u001b[0;34m()\u001b[0m\n\u001b[0;32m----> 1\u001b[0;31m \u001b[0;32mfrom\u001b[0m \u001b[0msimglucose\u001b[0m\u001b[0;34m.\u001b[0m\u001b[0msimulation\u001b[0m\u001b[0;34m.\u001b[0m\u001b[0menv\u001b[0m \u001b[0;32mimport\u001b[0m \u001b[0mT1DSimEnv\u001b[0m\u001b[0;34m\u001b[0m\u001b[0;34m\u001b[0m\u001b[0m\n\u001b[0m\u001b[1;32m      2\u001b[0m \u001b[0;32mfrom\u001b[0m \u001b[0msimglucose\u001b[0m\u001b[0;34m.\u001b[0m\u001b[0mcontroller\u001b[0m\u001b[0;34m.\u001b[0m\u001b[0mbasal_bolus_ctrller\u001b[0m \u001b[0;32mimport\u001b[0m \u001b[0mBBController\u001b[0m\u001b[0;34m\u001b[0m\u001b[0;34m\u001b[0m\u001b[0m\n\u001b[1;32m      3\u001b[0m \u001b[0;32mfrom\u001b[0m \u001b[0msimglucose\u001b[0m\u001b[0;34m.\u001b[0m\u001b[0msensor\u001b[0m\u001b[0;34m.\u001b[0m\u001b[0mcgm\u001b[0m \u001b[0;32mimport\u001b[0m \u001b[0mCGMSensor\u001b[0m\u001b[0;34m\u001b[0m\u001b[0;34m\u001b[0m\u001b[0m\n\u001b[1;32m      4\u001b[0m \u001b[0;32mfrom\u001b[0m \u001b[0msimglucose\u001b[0m\u001b[0;34m.\u001b[0m\u001b[0mactuator\u001b[0m\u001b[0;34m.\u001b[0m\u001b[0mpump\u001b[0m \u001b[0;32mimport\u001b[0m \u001b[0mInsulinPump\u001b[0m\u001b[0;34m\u001b[0m\u001b[0;34m\u001b[0m\u001b[0m\n\u001b[1;32m      5\u001b[0m \u001b[0;32mfrom\u001b[0m \u001b[0msimglucose\u001b[0m\u001b[0;34m.\u001b[0m\u001b[0mpatient\u001b[0m\u001b[0;34m.\u001b[0m\u001b[0mt1dpatient\u001b[0m \u001b[0;32mimport\u001b[0m \u001b[0mT1DPatient\u001b[0m\u001b[0;34m\u001b[0m\u001b[0;34m\u001b[0m\u001b[0m\n",
            "\u001b[0;32m/usr/local/lib/python3.10/dist-packages/simglucose/simulation/env.py\u001b[0m in \u001b[0;36m<module>\u001b[0;34m\u001b[0m\n\u001b[0;32m----> 1\u001b[0;31m \u001b[0;32mfrom\u001b[0m \u001b[0msimglucose\u001b[0m\u001b[0;34m.\u001b[0m\u001b[0mpatient\u001b[0m\u001b[0;34m.\u001b[0m\u001b[0mt1dpatient\u001b[0m \u001b[0;32mimport\u001b[0m \u001b[0mAction\u001b[0m\u001b[0;34m\u001b[0m\u001b[0;34m\u001b[0m\u001b[0m\n\u001b[0m\u001b[1;32m      2\u001b[0m \u001b[0;32mfrom\u001b[0m \u001b[0msimglucose\u001b[0m\u001b[0;34m.\u001b[0m\u001b[0manalysis\u001b[0m\u001b[0;34m.\u001b[0m\u001b[0mrisk\u001b[0m \u001b[0;32mimport\u001b[0m \u001b[0mrisk_index\u001b[0m\u001b[0;34m\u001b[0m\u001b[0;34m\u001b[0m\u001b[0m\n\u001b[1;32m      3\u001b[0m \u001b[0;32mimport\u001b[0m \u001b[0mpandas\u001b[0m \u001b[0;32mas\u001b[0m \u001b[0mpd\u001b[0m\u001b[0;34m\u001b[0m\u001b[0;34m\u001b[0m\u001b[0m\n\u001b[1;32m      4\u001b[0m \u001b[0;32mfrom\u001b[0m \u001b[0mdatetime\u001b[0m \u001b[0;32mimport\u001b[0m \u001b[0mtimedelta\u001b[0m\u001b[0;34m\u001b[0m\u001b[0;34m\u001b[0m\u001b[0m\n\u001b[1;32m      5\u001b[0m \u001b[0;32mimport\u001b[0m \u001b[0mlogging\u001b[0m\u001b[0;34m\u001b[0m\u001b[0;34m\u001b[0m\u001b[0m\n",
            "\u001b[0;32m/usr/local/lib/python3.10/dist-packages/simglucose/patient/t1dpatient.py\u001b[0m in \u001b[0;36m<module>\u001b[0;34m\u001b[0m\n\u001b[1;32m      1\u001b[0m \u001b[0;32mfrom\u001b[0m \u001b[0;34m.\u001b[0m\u001b[0mbase\u001b[0m \u001b[0;32mimport\u001b[0m \u001b[0mPatient\u001b[0m\u001b[0;34m\u001b[0m\u001b[0;34m\u001b[0m\u001b[0m\n\u001b[1;32m      2\u001b[0m \u001b[0;32mimport\u001b[0m \u001b[0mnumpy\u001b[0m \u001b[0;32mas\u001b[0m \u001b[0mnp\u001b[0m\u001b[0;34m\u001b[0m\u001b[0;34m\u001b[0m\u001b[0m\n\u001b[0;32m----> 3\u001b[0;31m \u001b[0;32mfrom\u001b[0m \u001b[0mscipy\u001b[0m\u001b[0;34m.\u001b[0m\u001b[0mintegrate\u001b[0m \u001b[0;32mimport\u001b[0m \u001b[0mode\u001b[0m\u001b[0;34m\u001b[0m\u001b[0;34m\u001b[0m\u001b[0m\n\u001b[0m\u001b[1;32m      4\u001b[0m \u001b[0;32mimport\u001b[0m \u001b[0mpandas\u001b[0m \u001b[0;32mas\u001b[0m \u001b[0mpd\u001b[0m\u001b[0;34m\u001b[0m\u001b[0;34m\u001b[0m\u001b[0m\n\u001b[1;32m      5\u001b[0m \u001b[0;32mfrom\u001b[0m \u001b[0mcollections\u001b[0m \u001b[0;32mimport\u001b[0m \u001b[0mnamedtuple\u001b[0m\u001b[0;34m\u001b[0m\u001b[0;34m\u001b[0m\u001b[0m\n",
            "\u001b[0;32m/usr/local/lib/python3.10/dist-packages/scipy/integrate/__init__.py\u001b[0m in \u001b[0;36m<module>\u001b[0;34m\u001b[0m\n\u001b[1;32m     94\u001b[0m \u001b[0;32mfrom\u001b[0m \u001b[0;34m.\u001b[0m\u001b[0m_quadpack_py\u001b[0m \u001b[0;32mimport\u001b[0m \u001b[0;34m*\u001b[0m\u001b[0;34m\u001b[0m\u001b[0;34m\u001b[0m\u001b[0m\n\u001b[1;32m     95\u001b[0m \u001b[0;32mfrom\u001b[0m \u001b[0;34m.\u001b[0m\u001b[0m_ode\u001b[0m \u001b[0;32mimport\u001b[0m \u001b[0;34m*\u001b[0m\u001b[0;34m\u001b[0m\u001b[0;34m\u001b[0m\u001b[0m\n\u001b[0;32m---> 96\u001b[0;31m \u001b[0;32mfrom\u001b[0m \u001b[0;34m.\u001b[0m\u001b[0m_bvp\u001b[0m \u001b[0;32mimport\u001b[0m \u001b[0msolve_bvp\u001b[0m\u001b[0;34m\u001b[0m\u001b[0;34m\u001b[0m\u001b[0m\n\u001b[0m\u001b[1;32m     97\u001b[0m from ._ivp import (solve_ivp, OdeSolution, DenseOutput,\n\u001b[1;32m     98\u001b[0m                    OdeSolver, RK23, RK45, DOP853, Radau, BDF, LSODA)\n",
            "\u001b[0;32m/usr/local/lib/python3.10/dist-packages/scipy/integrate/_bvp.py\u001b[0m in \u001b[0;36m<module>\u001b[0;34m\u001b[0m\n\u001b[1;32m      7\u001b[0m \u001b[0;32mfrom\u001b[0m \u001b[0mscipy\u001b[0m\u001b[0;34m.\u001b[0m\u001b[0msparse\u001b[0m \u001b[0;32mimport\u001b[0m \u001b[0mcoo_matrix\u001b[0m\u001b[0;34m,\u001b[0m \u001b[0mcsc_matrix\u001b[0m\u001b[0;34m\u001b[0m\u001b[0;34m\u001b[0m\u001b[0m\n\u001b[1;32m      8\u001b[0m \u001b[0;32mfrom\u001b[0m \u001b[0mscipy\u001b[0m\u001b[0;34m.\u001b[0m\u001b[0msparse\u001b[0m\u001b[0;34m.\u001b[0m\u001b[0mlinalg\u001b[0m \u001b[0;32mimport\u001b[0m \u001b[0msplu\u001b[0m\u001b[0;34m\u001b[0m\u001b[0;34m\u001b[0m\u001b[0m\n\u001b[0;32m----> 9\u001b[0;31m \u001b[0;32mfrom\u001b[0m \u001b[0mscipy\u001b[0m\u001b[0;34m.\u001b[0m\u001b[0moptimize\u001b[0m \u001b[0;32mimport\u001b[0m \u001b[0mOptimizeResult\u001b[0m\u001b[0;34m\u001b[0m\u001b[0;34m\u001b[0m\u001b[0m\n\u001b[0m\u001b[1;32m     10\u001b[0m \u001b[0;34m\u001b[0m\u001b[0m\n\u001b[1;32m     11\u001b[0m \u001b[0;34m\u001b[0m\u001b[0m\n",
            "\u001b[0;32m/usr/local/lib/python3.10/dist-packages/scipy/optimize/__init__.py\u001b[0m in \u001b[0;36m<module>\u001b[0;34m\u001b[0m\n\u001b[1;32m    408\u001b[0m \u001b[0;34m\u001b[0m\u001b[0m\n\u001b[1;32m    409\u001b[0m \u001b[0;32mfrom\u001b[0m \u001b[0;34m.\u001b[0m\u001b[0m_optimize\u001b[0m \u001b[0;32mimport\u001b[0m \u001b[0;34m*\u001b[0m\u001b[0;34m\u001b[0m\u001b[0;34m\u001b[0m\u001b[0m\n\u001b[0;32m--> 410\u001b[0;31m \u001b[0;32mfrom\u001b[0m \u001b[0;34m.\u001b[0m\u001b[0m_minimize\u001b[0m \u001b[0;32mimport\u001b[0m \u001b[0;34m*\u001b[0m\u001b[0;34m\u001b[0m\u001b[0;34m\u001b[0m\u001b[0m\n\u001b[0m\u001b[1;32m    411\u001b[0m \u001b[0;32mfrom\u001b[0m \u001b[0;34m.\u001b[0m\u001b[0m_root\u001b[0m \u001b[0;32mimport\u001b[0m \u001b[0;34m*\u001b[0m\u001b[0;34m\u001b[0m\u001b[0;34m\u001b[0m\u001b[0m\n\u001b[1;32m    412\u001b[0m \u001b[0;32mfrom\u001b[0m \u001b[0;34m.\u001b[0m\u001b[0m_root_scalar\u001b[0m \u001b[0;32mimport\u001b[0m \u001b[0;34m*\u001b[0m\u001b[0;34m\u001b[0m\u001b[0;34m\u001b[0m\u001b[0m\n",
            "\u001b[0;32m/usr/local/lib/python3.10/dist-packages/scipy/optimize/_minimize.py\u001b[0m in \u001b[0;36m<module>\u001b[0;34m\u001b[0m\n\u001b[1;32m     25\u001b[0m \u001b[0;32mfrom\u001b[0m \u001b[0;34m.\u001b[0m\u001b[0m_trustregion_krylov\u001b[0m \u001b[0;32mimport\u001b[0m \u001b[0m_minimize_trust_krylov\u001b[0m\u001b[0;34m\u001b[0m\u001b[0;34m\u001b[0m\u001b[0m\n\u001b[1;32m     26\u001b[0m \u001b[0;32mfrom\u001b[0m \u001b[0;34m.\u001b[0m\u001b[0m_trustregion_exact\u001b[0m \u001b[0;32mimport\u001b[0m \u001b[0m_minimize_trustregion_exact\u001b[0m\u001b[0;34m\u001b[0m\u001b[0;34m\u001b[0m\u001b[0m\n\u001b[0;32m---> 27\u001b[0;31m \u001b[0;32mfrom\u001b[0m \u001b[0;34m.\u001b[0m\u001b[0m_trustregion_constr\u001b[0m \u001b[0;32mimport\u001b[0m \u001b[0m_minimize_trustregion_constr\u001b[0m\u001b[0;34m\u001b[0m\u001b[0;34m\u001b[0m\u001b[0m\n\u001b[0m\u001b[1;32m     28\u001b[0m \u001b[0;34m\u001b[0m\u001b[0m\n\u001b[1;32m     29\u001b[0m \u001b[0;31m# constrained minimization\u001b[0m\u001b[0;34m\u001b[0m\u001b[0;34m\u001b[0m\u001b[0m\n",
            "\u001b[0;32m/usr/local/lib/python3.10/dist-packages/scipy/optimize/_trustregion_constr/__init__.py\u001b[0m in \u001b[0;36m<module>\u001b[0;34m\u001b[0m\n\u001b[1;32m      2\u001b[0m \u001b[0;34m\u001b[0m\u001b[0m\n\u001b[1;32m      3\u001b[0m \u001b[0;34m\u001b[0m\u001b[0m\n\u001b[0;32m----> 4\u001b[0;31m \u001b[0;32mfrom\u001b[0m \u001b[0;34m.\u001b[0m\u001b[0mminimize_trustregion_constr\u001b[0m \u001b[0;32mimport\u001b[0m \u001b[0m_minimize_trustregion_constr\u001b[0m\u001b[0;34m\u001b[0m\u001b[0;34m\u001b[0m\u001b[0m\n\u001b[0m\u001b[1;32m      5\u001b[0m \u001b[0;34m\u001b[0m\u001b[0m\n\u001b[1;32m      6\u001b[0m \u001b[0m__all__\u001b[0m \u001b[0;34m=\u001b[0m \u001b[0;34m[\u001b[0m\u001b[0;34m'_minimize_trustregion_constr'\u001b[0m\u001b[0;34m]\u001b[0m\u001b[0;34m\u001b[0m\u001b[0;34m\u001b[0m\u001b[0m\n",
            "\u001b[0;32m/usr/local/lib/python3.10/dist-packages/scipy/optimize/_trustregion_constr/minimize_trustregion_constr.py\u001b[0m in \u001b[0;36m<module>\u001b[0;34m\u001b[0m\n\u001b[1;32m      3\u001b[0m \u001b[0;32mfrom\u001b[0m \u001b[0mscipy\u001b[0m\u001b[0;34m.\u001b[0m\u001b[0msparse\u001b[0m\u001b[0;34m.\u001b[0m\u001b[0mlinalg\u001b[0m \u001b[0;32mimport\u001b[0m \u001b[0mLinearOperator\u001b[0m\u001b[0;34m\u001b[0m\u001b[0;34m\u001b[0m\u001b[0m\n\u001b[1;32m      4\u001b[0m \u001b[0;32mfrom\u001b[0m \u001b[0;34m.\u001b[0m\u001b[0;34m.\u001b[0m\u001b[0m_differentiable_functions\u001b[0m \u001b[0;32mimport\u001b[0m \u001b[0mVectorFunction\u001b[0m\u001b[0;34m\u001b[0m\u001b[0;34m\u001b[0m\u001b[0m\n\u001b[0;32m----> 5\u001b[0;31m from .._constraints import (\n\u001b[0m\u001b[1;32m      6\u001b[0m     NonlinearConstraint, LinearConstraint, PreparedConstraint, strict_bounds)\n\u001b[1;32m      7\u001b[0m \u001b[0;32mfrom\u001b[0m \u001b[0;34m.\u001b[0m\u001b[0;34m.\u001b[0m\u001b[0m_hessian_update_strategy\u001b[0m \u001b[0;32mimport\u001b[0m \u001b[0mBFGS\u001b[0m\u001b[0;34m\u001b[0m\u001b[0;34m\u001b[0m\u001b[0m\n",
            "\u001b[0;32m/usr/local/lib/python3.10/dist-packages/scipy/optimize/_constraints.py\u001b[0m in \u001b[0;36m<module>\u001b[0;34m\u001b[0m\n\u001b[1;32m      6\u001b[0m \u001b[0;32mfrom\u001b[0m \u001b[0;34m.\u001b[0m\u001b[0m_optimize\u001b[0m \u001b[0;32mimport\u001b[0m \u001b[0mOptimizeWarning\u001b[0m\u001b[0;34m\u001b[0m\u001b[0;34m\u001b[0m\u001b[0m\n\u001b[1;32m      7\u001b[0m \u001b[0;32mfrom\u001b[0m \u001b[0mwarnings\u001b[0m \u001b[0;32mimport\u001b[0m \u001b[0mwarn\u001b[0m\u001b[0;34m,\u001b[0m \u001b[0mcatch_warnings\u001b[0m\u001b[0;34m,\u001b[0m \u001b[0msimplefilter\u001b[0m\u001b[0;34m\u001b[0m\u001b[0;34m\u001b[0m\u001b[0m\n\u001b[0;32m----> 8\u001b[0;31m \u001b[0;32mfrom\u001b[0m \u001b[0mnumpy\u001b[0m\u001b[0;34m.\u001b[0m\u001b[0mtesting\u001b[0m \u001b[0;32mimport\u001b[0m \u001b[0msuppress_warnings\u001b[0m\u001b[0;34m\u001b[0m\u001b[0;34m\u001b[0m\u001b[0m\n\u001b[0m\u001b[1;32m      9\u001b[0m \u001b[0;32mfrom\u001b[0m \u001b[0mscipy\u001b[0m\u001b[0;34m.\u001b[0m\u001b[0msparse\u001b[0m \u001b[0;32mimport\u001b[0m \u001b[0missparse\u001b[0m\u001b[0;34m\u001b[0m\u001b[0;34m\u001b[0m\u001b[0m\n\u001b[1;32m     10\u001b[0m \u001b[0;34m\u001b[0m\u001b[0m\n",
            "\u001b[0;32m/usr/local/lib/python3.10/dist-packages/numpy/testing/__init__.py\u001b[0m in \u001b[0;36m<module>\u001b[0;34m\u001b[0m\n\u001b[1;32m      9\u001b[0m \u001b[0;34m\u001b[0m\u001b[0m\n\u001b[1;32m     10\u001b[0m \u001b[0;32mfrom\u001b[0m \u001b[0;34m.\u001b[0m \u001b[0;32mimport\u001b[0m \u001b[0m_private\u001b[0m\u001b[0;34m\u001b[0m\u001b[0;34m\u001b[0m\u001b[0m\n\u001b[0;32m---> 11\u001b[0;31m \u001b[0;32mfrom\u001b[0m \u001b[0;34m.\u001b[0m\u001b[0m_private\u001b[0m\u001b[0;34m.\u001b[0m\u001b[0mutils\u001b[0m \u001b[0;32mimport\u001b[0m \u001b[0;34m*\u001b[0m\u001b[0;34m\u001b[0m\u001b[0;34m\u001b[0m\u001b[0m\n\u001b[0m\u001b[1;32m     12\u001b[0m \u001b[0;32mfrom\u001b[0m \u001b[0;34m.\u001b[0m\u001b[0m_private\u001b[0m\u001b[0;34m.\u001b[0m\u001b[0mutils\u001b[0m \u001b[0;32mimport\u001b[0m \u001b[0;34m(\u001b[0m\u001b[0m_assert_valid_refcount\u001b[0m\u001b[0;34m,\u001b[0m \u001b[0m_gen_alignment_data\u001b[0m\u001b[0;34m)\u001b[0m\u001b[0;34m\u001b[0m\u001b[0;34m\u001b[0m\u001b[0m\n\u001b[1;32m     13\u001b[0m \u001b[0;32mfrom\u001b[0m \u001b[0;34m.\u001b[0m\u001b[0m_private\u001b[0m \u001b[0;32mimport\u001b[0m \u001b[0mextbuild\u001b[0m\u001b[0;34m\u001b[0m\u001b[0;34m\u001b[0m\u001b[0m\n",
            "\u001b[0;32m/usr/local/lib/python3.10/dist-packages/numpy/testing/_private/utils.py\u001b[0m in \u001b[0;36m<module>\u001b[0;34m\u001b[0m\n\u001b[1;32m    411\u001b[0m \u001b[0;34m\u001b[0m\u001b[0m\n\u001b[1;32m    412\u001b[0m \u001b[0;34m\u001b[0m\u001b[0m\n\u001b[0;32m--> 413\u001b[0;31m \u001b[0;34m@\u001b[0m\u001b[0mnp\u001b[0m\u001b[0;34m.\u001b[0m\u001b[0m_no_nep50_warning\u001b[0m\u001b[0;34m(\u001b[0m\u001b[0;34m)\u001b[0m\u001b[0;34m\u001b[0m\u001b[0;34m\u001b[0m\u001b[0m\n\u001b[0m\u001b[1;32m    414\u001b[0m \u001b[0;32mdef\u001b[0m \u001b[0massert_almost_equal\u001b[0m\u001b[0;34m(\u001b[0m\u001b[0mactual\u001b[0m\u001b[0;34m,\u001b[0m \u001b[0mdesired\u001b[0m\u001b[0;34m,\u001b[0m \u001b[0mdecimal\u001b[0m\u001b[0;34m=\u001b[0m\u001b[0;36m7\u001b[0m\u001b[0;34m,\u001b[0m \u001b[0merr_msg\u001b[0m\u001b[0;34m=\u001b[0m\u001b[0;34m''\u001b[0m\u001b[0;34m,\u001b[0m \u001b[0mverbose\u001b[0m\u001b[0;34m=\u001b[0m\u001b[0;32mTrue\u001b[0m\u001b[0;34m)\u001b[0m\u001b[0;34m:\u001b[0m\u001b[0;34m\u001b[0m\u001b[0;34m\u001b[0m\u001b[0m\n\u001b[1;32m    415\u001b[0m     \"\"\"\n",
            "\u001b[0;32m/usr/local/lib/python3.10/dist-packages/numpy/__init__.py\u001b[0m in \u001b[0;36m__getattr__\u001b[0;34m(attr)\u001b[0m\n\u001b[1;32m    309\u001b[0m             \u001b[0;32mreturn\u001b[0m \u001b[0mval\u001b[0m\u001b[0;34m\u001b[0m\u001b[0;34m\u001b[0m\u001b[0m\n\u001b[1;32m    310\u001b[0m \u001b[0;34m\u001b[0m\u001b[0m\n\u001b[0;32m--> 311\u001b[0;31m         \u001b[0;32mif\u001b[0m \u001b[0mattr\u001b[0m \u001b[0;32min\u001b[0m \u001b[0m__future_scalars__\u001b[0m\u001b[0;34m:\u001b[0m\u001b[0;34m\u001b[0m\u001b[0;34m\u001b[0m\u001b[0m\n\u001b[0m\u001b[1;32m    312\u001b[0m             \u001b[0;31m# And future warnings for those that will change, but also give\u001b[0m\u001b[0;34m\u001b[0m\u001b[0;34m\u001b[0m\u001b[0m\n\u001b[1;32m    313\u001b[0m             \u001b[0;31m# the AttributeError\u001b[0m\u001b[0;34m\u001b[0m\u001b[0;34m\u001b[0m\u001b[0m\n",
            "\u001b[0;31mAttributeError\u001b[0m: module 'numpy' has no attribute '_no_nep50_warning'"
          ]
        }
      ]
    },
    {
      "cell_type": "code",
      "source": [
        "from datetime import timedelta\n",
        "from datetime import time as dt_time\n",
        "from datetime import datetime\n",
        "\n",
        "import numpy as np\n",
        "import pandas as pd\n",
        "\n"
      ],
      "metadata": {
        "id": "BT8fPuWxYfx0"
      },
      "execution_count": null,
      "outputs": []
    },
    {
      "cell_type": "code",
      "source": [
        "# specify start_time as the beginning of today\n",
        "now = datetime.now()\n",
        "t0 = datetime.combine(now.date(), dt_time(6, 0, 0, 0))\n",
        "start_time=t0\n",
        "#start_time = datetime.combine(now.date(), datetime.min.time())\n",
        "\n",
        "# --------- Create Random Scenario --------------\n",
        "# Specify results saving path\n",
        "path = './results'\n",
        "\n",
        "df=pd.read_csv('vpatient_params.csv')"
      ],
      "metadata": {
        "id": "fBqri5XMYn-g"
      },
      "execution_count": null,
      "outputs": []
    },
    {
      "cell_type": "code",
      "source": [
        "from google.colab import drive\n",
        "drive.mount('/content/drive')"
      ],
      "metadata": {
        "colab": {
          "base_uri": "https://localhost:8080/"
        },
        "id": "Cy2aMIU1Y4JT",
        "outputId": "22e61b45-4b87-43c4-898b-91620b532cfd"
      },
      "execution_count": null,
      "outputs": [
        {
          "output_type": "stream",
          "name": "stdout",
          "text": [
            "Mounted at /content/drive\n"
          ]
        }
      ]
    },
    {
      "cell_type": "code",
      "source": [
        "from simglucose.simulation.scenario import Action, Scenario\n",
        "import numpy as np\n",
        "from scipy.stats import truncnorm\n",
        "from datetime import datetime\n",
        "import logging\n",
        "\n",
        "logger = logging.getLogger(__name__)\n",
        "\n",
        "\n",
        "class BatchRandomScenario(Scenario):\n",
        "    def __init__(self, start_time, seed=None):\n",
        "        Scenario.__init__(self, start_time=start_time)\n",
        "        self.seed = seed\n",
        "\n",
        "    def get_action(self, t):\n",
        "        # t must be datetime.datetime object\n",
        "        delta_t = t - datetime.combine(t.date(), datetime.min.time())\n",
        "        t_sec = delta_t.total_seconds()\n",
        "\n",
        "        if t_sec < 1:\n",
        "            logger.info('Creating new one day scenario ...')\n",
        "            self.scenario = self.create_scenario()\n",
        "\n",
        "        t_min = np.floor(t_sec / 60.0)\n",
        "\n",
        "        if t_min in self.scenario['meal']['time']:\n",
        "            logger.info('Time for meal!')\n",
        "            idx = self.scenario['meal']['time'].index(t_min)\n",
        "            return Action(meal=self.scenario['meal']['amount'][idx])\n",
        "        else:\n",
        "            return Action(meal=0)\n",
        "\n",
        "    def create_scenario(self):\n",
        "        scenario = {'meal': {'time': [], 'amount': []}}\n",
        "\n",
        "        # Probability of taking each meal\n",
        "        # [breakfast, snack1, lunch, snack2, dinner, snack3]\n",
        "        prob = [0.95, 0.3, 0.95, 0.3, 0.95, 0.3]\n",
        "        time_lb = np.array([5, 9, 10, 14, 16, 20]) * 60\n",
        "        time_ub = np.array([9, 10, 14, 16, 20, 23]) * 60\n",
        "        time_mu = np.array([7, 9.5, 12, 15, 18, 21.5]) * 60\n",
        "        time_sigma = np.array([60, 30, 60, 30, 60, 30])\n",
        "        amount_mu = [10, 3, 20, 3, 20, 3]\n",
        "        amount_sigma = [3, 1, 3, 1, 3, 1]\n",
        "\n",
        "        for p, tlb, tub, tbar, tsd, mbar, msd in zip(prob, time_lb, time_ub,\n",
        "                                                     time_mu, time_sigma,\n",
        "                                                     amount_mu, amount_sigma):\n",
        "            if self.random_gen.rand() < p:\n",
        "                tmeal = np.round(\n",
        "                    truncnorm.rvs(a=(tlb - tbar) / tsd,\n",
        "                                  b=(tub - tbar) / tsd,\n",
        "                                  loc=tbar,\n",
        "                                  scale=tsd,\n",
        "                                  random_state=self.random_gen))\n",
        "                scenario['meal']['time'].append(tmeal)\n",
        "                scenario['meal']['amount'].append(\n",
        "                    max(round(self.random_gen.normal(mbar, msd)), 0))\n",
        "\n",
        "        return scenario\n",
        "\n",
        "    def reset(self):\n",
        "        self.random_gen = np.random.RandomState(self.seed)\n",
        "        self.scenario = self.create_scenario()\n",
        "\n",
        "    @property\n",
        "    def seed(self):\n",
        "        return self._seed\n",
        "\n",
        "    @seed.setter\n",
        "    def seed(self, seed):\n",
        "        self._seed = seed\n",
        "        self.reset()\n",
        "\n"
      ],
      "metadata": {
        "id": "lmKA4-YOZE3A"
      },
      "execution_count": null,
      "outputs": []
    },
    {
      "cell_type": "code",
      "source": [
        "##################################################################################################################\n",
        "# 1. Setup patient loading its parameters from file\n",
        "##################################################################################################################\n",
        "# Create a patient\n",
        "patient = T1DPatient.withName('adolescent#002')\n",
        "#add random variation to the Vg value to simulate more patients\n",
        "patient._params.Vmx=patient._params.Vmx#+0.003*np.random.randn()"
      ],
      "metadata": {
        "id": "1mAqTG7hZXW-"
      },
      "execution_count": null,
      "outputs": []
    },
    {
      "cell_type": "code",
      "source": [
        "##################################################################################################################\n",
        "# 2. Setup CGM sensor and pump models\n",
        "##################################################################################################################\n",
        "# Creat sensor and insulin pump\n",
        "sensor = CGMSensor.withName('Dexcom', seed=1)\n",
        "pump = InsulinPump.withName('Insulet')\n"
      ],
      "metadata": {
        "id": "BmmTdL0DZf4j"
      },
      "execution_count": null,
      "outputs": []
    },
    {
      "cell_type": "code",
      "source": [
        "##################################################################################################################\n",
        "# 3. Setup custom meal pattern\n",
        "# custom scenario is a list of tuples (time, meal_size)\n",
        "##################################################################################################################\n",
        "max_days=5\n",
        "prob = [0.95, 0.3, 0.95, 0.3, 0.95, 0.3]\n",
        "base_t=[7, 10, 12.5, 16, 20, 22]\n",
        "base_m = [10, 3, 20, 3, 20, 3]\n",
        "sigma_m = [2, 1, 3, 1, 3, 1]\n",
        "#base_t=[7,12,14,18,22]\n",
        "#base_m=[45,70,15,80,10]\n",
        "#base_m=[15,20,3,26,3]\n",
        "scen=[]\n",
        "\n",
        "for d in range(max_days):\n",
        "    for i in range(6):\n",
        "        pmeal=np.random.uniform()\n",
        "        if(pmeal<prob[i]):\n",
        "            tm=(base_t[i]+(np.random.uniform()-0.5)*2)*60+d*24*60\n",
        "            vm=max(0,base_m[i]+sigma_m[i]*np.random.randn())\n",
        "            scen.append((tm,vm))\n",
        "\n",
        "#scen = [(7, 45), (12, 70), (16, 15), (18, 80), (23, 10), (7+24, 45), (12+24, 70), (16+24, 15), (18+24, 80), (23+24, 10)]\n",
        "scenario = CustomScenario(start_time=start_time, scenario=scen)"
      ],
      "metadata": {
        "id": "S0gW4kvyZqaU"
      },
      "execution_count": null,
      "outputs": []
    },
    {
      "cell_type": "code",
      "source": [
        "scenario"
      ],
      "metadata": {
        "colab": {
          "base_uri": "https://localhost:8080/"
        },
        "id": "-UYbPKjNd92A",
        "outputId": "88d85b17-ab6d-4d3b-9327-c8dcc5c28c96"
      },
      "execution_count": null,
      "outputs": [
        {
          "output_type": "execute_result",
          "data": {
            "text/plain": [
              "<__main__.BatchRandomScenario at 0x7d2c12bdaa40>"
            ]
          },
          "metadata": {},
          "execution_count": 23
        }
      ]
    },
    {
      "cell_type": "code",
      "source": [
        "##################################################################################################################\n",
        "# 3. Setup custom meal pattern\n",
        "# custom scenario is a list of tuples (time, meal_size)\n",
        "##################################################################################################################\n",
        "max_days=5\n",
        "\n",
        "from simglucose.simulation.scenario_gen import RandomScenario\n",
        "sim_time = timedelta(days=max_days)\n",
        "now = datetime.now()\n",
        "\n",
        "#scenario=RandomScenario(start_time=t0, seed=42)\n",
        "scenario=BatchRandomScenario(start_time=t0, seed=42)\n",
        "#m = []\n",
        "#T = []\n",
        "#\n",
        "#t = t0\n",
        "#while t < t0 + sim_time:\n",
        "#    action = scenario.get_action(t)\n",
        "#    m.append(action.meal)\n",
        "#    T.append(t)\n",
        "#    t += timedelta(minutes=1)"
      ],
      "metadata": {
        "id": "aKP4r9WIaIPN"
      },
      "execution_count": null,
      "outputs": []
    },
    {
      "cell_type": "code",
      "source": [
        "np.array(scenario.scenario['meal']['time'])/60"
      ],
      "metadata": {
        "colab": {
          "base_uri": "https://localhost:8080/"
        },
        "id": "eYTZkWLFaNMA",
        "outputId": "67ac9a19-b16c-4e19-82c3-a8c68840bb96"
      },
      "execution_count": null,
      "outputs": [
        {
          "output_type": "execute_result",
          "data": {
            "text/plain": [
              "array([ 8.48333333,  9.18333333, 13.03333333, 15.81666667, 17.25      ])"
            ]
          },
          "metadata": {},
          "execution_count": 15
        }
      ]
    },
    {
      "cell_type": "code",
      "source": [
        "scenario.scenario"
      ],
      "metadata": {
        "colab": {
          "base_uri": "https://localhost:8080/"
        },
        "id": "6Ue-QlkQdvdV",
        "outputId": "3cffca65-00c8-4947-a9d4-4ea975991940"
      },
      "execution_count": null,
      "outputs": [
        {
          "output_type": "execute_result",
          "data": {
            "text/plain": [
              "{'meal': {'time': [399.0, 590.0, 692.0, 1100.0, 1307.0],\n",
              "  'amount': [13, 1, 23, 20, 4]}}"
            ]
          },
          "metadata": {},
          "execution_count": 22
        }
      ]
    },
    {
      "cell_type": "code",
      "source": [
        "##################################################################################################################\n",
        "# 4. Simulate the CGM measures\n",
        "##################################################################################################################\n",
        "\n",
        "env = T1DSimEnv(patient, sensor, pump, scenario)\n",
        "\n",
        "# Create a controller\n",
        "controller = BBController()\n",
        "\n",
        "# Put them together to create a simulation object\n",
        "s2 = SimObj(env, controller, timedelta(days=max_days), animate=False, path=path)\n",
        "results2 = sim(s2)\n",
        "\n",
        "import matplotlib.pyplot as plt\n",
        "plt.plot(results2.CGM)"
      ],
      "metadata": {
        "colab": {
          "base_uri": "https://localhost:8080/",
          "height": 504
        },
        "id": "pmmIpeQMaP_F",
        "outputId": "9271f961-0539-4bde-b641-c1b557084ae7"
      },
      "execution_count": null,
      "outputs": [
        {
          "output_type": "stream",
          "name": "stdout",
          "text": [
            "Process ID: 1784\n",
            "Simulation starts ...\n",
            "Simulation Completed!\n"
          ]
        },
        {
          "output_type": "execute_result",
          "data": {
            "text/plain": [
              "[<matplotlib.lines.Line2D at 0x7d2c12b9fc40>]"
            ]
          },
          "metadata": {},
          "execution_count": 16
        },
        {
          "output_type": "display_data",
          "data": {
            "text/plain": [
              "<Figure size 640x480 with 1 Axes>"
            ],
            "image/png": "[encoded data removed]"
          },
          "metadata": {}
        }
      ]
    },
    {
      "cell_type": "code",
      "source": [
        "results2.CGM"
      ],
      "metadata": {
        "colab": {
          "base_uri": "https://localhost:8080/"
        },
        "id": "jau5V6_addJ3",
        "outputId": "9e2a002b-54b6-4e08-d5b7-74b0d43b5cd5"
      },
      "execution_count": null,
      "outputs": [
        {
          "output_type": "execute_result",
          "data": {
            "text/plain": [
              "Time\n",
              "2023-09-06 06:00:00    169.183949\n",
              "2023-09-06 06:03:00    164.972022\n",
              "2023-09-06 06:06:00    162.629373\n",
              "2023-09-06 06:09:00    160.862710\n",
              "2023-09-06 06:12:00    159.498950\n",
              "                          ...    \n",
              "2023-09-11 05:48:00    124.779335\n",
              "2023-09-11 05:51:00    126.486855\n",
              "2023-09-11 05:54:00    129.479242\n",
              "2023-09-11 05:57:00    131.824254\n",
              "2023-09-11 06:00:00    130.869315\n",
              "Name: CGM, Length: 2401, dtype: float64"
            ]
          },
          "metadata": {},
          "execution_count": 21
        }
      ]
    },
    {
      "cell_type": "code",
      "source": [
        "from simglucose.simulation.env import T1DSimEnv\n",
        "from simglucose.controller.basal_bolus_ctrller import BBController\n",
        "from simglucose.sensor.cgm import CGMSensor\n",
        "from simglucose.actuator.pump import InsulinPump\n",
        "from simglucose.patient.t1dpatient import T1DPatient\n",
        "from simglucose.simulation.scenario_gen import RandomScenario\n",
        "from simglucose.simulation.scenario import CustomScenario\n",
        "from simglucose.simulation.sim_engine import SimObj, sim, batch_sim\n",
        "from datetime import timedelta\n",
        "from datetime import datetime\n",
        "\n",
        "# specify start_time as the beginning of today\n",
        "now = datetime.now()\n",
        "start_time = datetime.combine(now.date(), datetime.min.time())\n",
        "\n",
        "# --------- Create Random Scenario --------------\n",
        "# Specify results saving path\n",
        "path = './results'\n",
        "\n",
        "# Create a simulation environment\n",
        "patient = T1DPatient.withName('adolescent#001')\n",
        "sensor = CGMSensor.withName('Dexcom', seed=1)\n",
        "pump = InsulinPump.withName('Insulet')\n",
        "scenario = RandomScenario(start_time=start_time, seed=1)\n",
        "env = T1DSimEnv(patient, sensor, pump, scenario)\n",
        "\n",
        "# Create a controller\n",
        "controller = BBController()\n",
        "\n",
        "# Put them together to create a simulation object\n",
        "s1 = SimObj(env, controller, timedelta(days=1), animate=False, path=path)\n",
        "results1 = sim(s1)\n",
        "print(results1)\n",
        "\n",
        "# --------- Create Custom Scenario --------------\n",
        "# Create a simulation environment\n",
        "patient = T1DPatient.withName('adolescent#001')\n",
        "sensor = CGMSensor.withName('Dexcom', seed=1)\n",
        "pump = InsulinPump.withName('Insulet')\n",
        "# custom scenario is a list of tuples (time, meal_size)\n",
        "scen = [(7, 45), (12, 70), (16, 15), (18, 80), (23, 10)]\n",
        "scenario = CustomScenario(start_time=start_time, scenario=scen)\n",
        "env = T1DSimEnv(patient, sensor, pump, scenario)\n",
        "\n",
        "# Create a controller\n",
        "controller = BBController()\n",
        "\n",
        "# Put them together to create a simulation object\n",
        "s2 = SimObj(env, controller, timedelta(days=1), animate=False, path=path)\n",
        "results2 = sim(s2)\n",
        "print(results2)\n",
        "\n",
        "\n",
        "# --------- batch simulation --------------\n",
        "# Re-initialize simulation objects\n",
        "s1.reset()\n",
        "s2.reset()\n",
        "\n",
        "# create a list of SimObj, and call batch_sim\n",
        "s = [s1, s2]\n",
        "results = batch_sim(s, parallel=True)\n",
        "print(results)"
      ],
      "metadata": {
        "colab": {
          "base_uri": "https://localhost:8080/"
        },
        "id": "VvG4A1v_4vIA",
        "outputId": "2d6ce1c4-5076-44d9-c1bd-47418ada793a"
      },
      "execution_count": null,
      "outputs": [
        {
          "output_type": "stream",
          "name": "stdout",
          "text": [
            "Process ID: 156\n",
            "Simulation starts ...\n",
            "Simulation Completed!\n",
            "                             BG         CGM  CHO   insulin      LBGI  \\\n",
            "Time                                                                   \n",
            "2023-08-27 00:00:00  149.020000  165.793949  0.0  0.013933  0.000000   \n",
            "2023-08-27 00:03:00  149.020000  161.582022  0.0  0.013933  0.000000   \n",
            "2023-08-27 00:06:00  149.020000  159.239373  0.0  0.013933  0.000000   \n",
            "2023-08-27 00:09:00  149.020000  157.472710  0.0  0.013933  0.000000   \n",
            "2023-08-27 00:12:00  149.020000  156.108950  0.0  0.013933  0.000000   \n",
            "...                         ...         ...  ...       ...       ...   \n",
            "2023-08-27 23:48:00   87.199860   87.566737  0.0  0.013933  2.246258   \n",
            "2023-08-27 23:51:00   87.154267   86.821155  0.0  0.013933  2.255463   \n",
            "2023-08-27 23:54:00   87.129784   86.310303  0.0  0.013933  2.260416   \n",
            "2023-08-27 23:57:00   87.124878   86.138067  0.0  0.013933  2.261409   \n",
            "2023-08-28 00:00:00   87.137070   86.298608  NaN       NaN  2.258941   \n",
            "\n",
            "                         HBGI      Risk  \n",
            "Time                                     \n",
            "2023-08-27 00:00:00  2.755276  2.755276  \n",
            "2023-08-27 00:03:00  2.755276  2.755276  \n",
            "2023-08-27 00:06:00  2.755276  2.755276  \n",
            "2023-08-27 00:09:00  2.755276  2.755276  \n",
            "2023-08-27 00:12:00  2.755276  2.755276  \n",
            "...                       ...       ...  \n",
            "2023-08-27 23:48:00  0.000000  2.246258  \n",
            "2023-08-27 23:51:00  0.000000  2.255463  \n",
            "2023-08-27 23:54:00  0.000000  2.260416  \n",
            "2023-08-27 23:57:00  0.000000  2.261409  \n",
            "2023-08-28 00:00:00  0.000000  2.258941  \n",
            "\n",
            "[481 rows x 7 columns]\n",
            "Process ID: 156\n",
            "Simulation starts ...\n",
            "Simulation Completed!\n",
            "                             BG         CGM  CHO   insulin      LBGI  \\\n",
            "Time                                                                   \n",
            "2023-08-27 00:00:00  149.020000  165.793949  0.0  0.013933  0.000000   \n",
            "2023-08-27 00:03:00  149.020000  161.582022  0.0  0.013933  0.000000   \n",
            "2023-08-27 00:06:00  149.020000  159.239373  0.0  0.013933  0.000000   \n",
            "2023-08-27 00:09:00  149.020000  157.472710  0.0  0.013933  0.000000   \n",
            "2023-08-27 00:12:00  149.020000  156.108950  0.0  0.013933  0.000000   \n",
            "...                         ...         ...  ...       ...       ...   \n",
            "2023-08-27 23:48:00   82.957575   83.116903  0.0  0.013933  3.208266   \n",
            "2023-08-27 23:51:00   83.528452   82.990092  0.0  0.013933  3.065899   \n",
            "2023-08-27 23:54:00   84.109930   83.088861  0.0  0.013933  2.925154   \n",
            "2023-08-27 23:57:00   84.697469   83.513689  0.0  0.013933  2.787233   \n",
            "2023-08-28 00:00:00   85.287069   84.256706  NaN       NaN  2.653082   \n",
            "\n",
            "                         HBGI      Risk  \n",
            "Time                                     \n",
            "2023-08-27 00:00:00  2.755276  2.755276  \n",
            "2023-08-27 00:03:00  2.755276  2.755276  \n",
            "2023-08-27 00:06:00  2.755276  2.755276  \n",
            "2023-08-27 00:09:00  2.755276  2.755276  \n",
            "2023-08-27 00:12:00  2.755276  2.755276  \n",
            "...                       ...       ...  \n",
            "2023-08-27 23:48:00  0.000000  3.208266  \n",
            "2023-08-27 23:51:00  0.000000  3.065899  \n",
            "2023-08-27 23:54:00  0.000000  2.925154  \n",
            "2023-08-27 23:57:00  0.000000  2.787233  \n",
            "2023-08-28 00:00:00  0.000000  2.653082  \n",
            "\n",
            "[481 rows x 7 columns]\n",
            "Simulation took 9.03898000717163 sec.\n",
            "[                             BG         CGM  CHO   insulin      LBGI  \\\n",
            "Time                                                                   \n",
            "2023-08-27 00:00:00  149.020000  165.793949  0.0  0.013933  0.000000   \n",
            "2023-08-27 00:03:00  149.020000  161.582022  0.0  0.013933  0.000000   \n",
            "2023-08-27 00:06:00  149.020000  159.239373  0.0  0.013933  0.000000   \n",
            "2023-08-27 00:09:00  149.020000  157.472710  0.0  0.013933  0.000000   \n",
            "2023-08-27 00:12:00  149.020000  156.108950  0.0  0.013933  0.000000   \n",
            "...                         ...         ...  ...       ...       ...   \n",
            "2023-08-27 23:48:00   87.199860   87.566737  0.0  0.013933  2.246258   \n",
            "2023-08-27 23:51:00   87.154267   86.821155  0.0  0.013933  2.255463   \n",
            "2023-08-27 23:54:00   87.129784   86.310303  0.0  0.013933  2.260416   \n",
            "2023-08-27 23:57:00   87.124878   86.138067  0.0  0.013933  2.261409   \n",
            "2023-08-28 00:00:00   87.137070   86.298608  NaN       NaN  2.258941   \n",
            "\n",
            "                         HBGI      Risk  \n",
            "Time                                     \n",
            "2023-08-27 00:00:00  2.755276  2.755276  \n",
            "2023-08-27 00:03:00  2.755276  2.755276  \n",
            "2023-08-27 00:06:00  2.755276  2.755276  \n",
            "2023-08-27 00:09:00  2.755276  2.755276  \n",
            "2023-08-27 00:12:00  2.755276  2.755276  \n",
            "...                       ...       ...  \n",
            "2023-08-27 23:48:00  0.000000  2.246258  \n",
            "2023-08-27 23:51:00  0.000000  2.255463  \n",
            "2023-08-27 23:54:00  0.000000  2.260416  \n",
            "2023-08-27 23:57:00  0.000000  2.261409  \n",
            "2023-08-28 00:00:00  0.000000  2.258941  \n",
            "\n",
            "[481 rows x 7 columns],                              BG         CGM  CHO   insulin      LBGI  \\\n",
            "Time                                                                   \n",
            "2023-08-27 00:00:00  149.020000  165.793949  0.0  0.013933  0.000000   \n",
            "2023-08-27 00:03:00  149.020000  161.582022  0.0  0.013933  0.000000   \n",
            "2023-08-27 00:06:00  149.020000  159.239373  0.0  0.013933  0.000000   \n",
            "2023-08-27 00:09:00  149.020000  157.472710  0.0  0.013933  0.000000   \n",
            "2023-08-27 00:12:00  149.020000  156.108950  0.0  0.013933  0.000000   \n",
            "...                         ...         ...  ...       ...       ...   \n",
            "2023-08-27 23:48:00   82.957575   83.116903  0.0  0.013933  3.208266   \n",
            "2023-08-27 23:51:00   83.528452   82.990092  0.0  0.013933  3.065899   \n",
            "2023-08-27 23:54:00   84.109930   83.088861  0.0  0.013933  2.925154   \n",
            "2023-08-27 23:57:00   84.697469   83.513689  0.0  0.013933  2.787233   \n",
            "2023-08-28 00:00:00   85.287069   84.256706  NaN       NaN  2.653082   \n",
            "\n",
            "                         HBGI      Risk  \n",
            "Time                                     \n",
            "2023-08-27 00:00:00  2.755276  2.755276  \n",
            "2023-08-27 00:03:00  2.755276  2.755276  \n",
            "2023-08-27 00:06:00  2.755276  2.755276  \n",
            "2023-08-27 00:09:00  2.755276  2.755276  \n",
            "2023-08-27 00:12:00  2.755276  2.755276  \n",
            "...                       ...       ...  \n",
            "2023-08-27 23:48:00  0.000000  3.208266  \n",
            "2023-08-27 23:51:00  0.000000  3.065899  \n",
            "2023-08-27 23:54:00  0.000000  2.925154  \n",
            "2023-08-27 23:57:00  0.000000  2.787233  \n",
            "2023-08-28 00:00:00  0.000000  2.653082  \n",
            "\n",
            "[481 rows x 7 columns]]\n"
          ]
        }
      ]
    },
    {
      "cell_type": "code",
      "source": [
        "results2"
      ],
      "metadata": {
        "colab": {
          "base_uri": "https://localhost:8080/",
          "height": 455
        },
        "id": "lLnatF7gajK8",
        "outputId": "6a4bba90-1ed3-405e-a2b8-1987f026e85f"
      },
      "execution_count": null,
      "outputs": [
        {
          "output_type": "execute_result",
          "data": {
            "text/plain": [
              "                             BG         CGM  CHO  insulin  LBGI      HBGI  \\\n",
              "Time                                                                        \n",
              "2023-09-06 06:00:00  152.410000  169.183949  0.0   0.0153   0.0  3.215327   \n",
              "2023-09-06 06:03:00  152.410000  164.972022  0.0   0.0153   0.0  3.215327   \n",
              "2023-09-06 06:06:00  152.410000  162.629373  0.0   0.0153   0.0  3.215327   \n",
              "2023-09-06 06:09:00  152.410000  160.862710  0.0   0.0153   0.0  3.215327   \n",
              "2023-09-06 06:12:00  152.410000  159.498950  0.0   0.0153   0.0  3.215327   \n",
              "...                         ...         ...  ...      ...   ...       ...   \n",
              "2023-09-11 05:48:00  136.220550  124.779335  0.0   0.0153   0.0  1.273483   \n",
              "2023-09-11 05:51:00  136.443552  126.486855  0.0   0.0153   0.0  1.295406   \n",
              "2023-09-11 05:54:00  136.664169  129.479242  0.0   0.0153   0.0  1.317243   \n",
              "2023-09-11 05:57:00  136.882409  131.824254  0.0   0.0153   0.0  1.338991   \n",
              "2023-09-11 06:00:00  137.098277  130.869315  NaN      NaN   0.0  1.360643   \n",
              "\n",
              "                         Risk  \n",
              "Time                           \n",
              "2023-09-06 06:00:00  3.215327  \n",
              "2023-09-06 06:03:00  3.215327  \n",
              "2023-09-06 06:06:00  3.215327  \n",
              "2023-09-06 06:09:00  3.215327  \n",
              "2023-09-06 06:12:00  3.215327  \n",
              "...                       ...  \n",
              "2023-09-11 05:48:00  1.273483  \n",
              "2023-09-11 05:51:00  1.295406  \n",
              "2023-09-11 05:54:00  1.317243  \n",
              "2023-09-11 05:57:00  1.338991  \n",
              "2023-09-11 06:00:00  1.360643  \n",
              "\n",
              "[2401 rows x 7 columns]"
            ],
            "text/html": [
              "\n",
              "  <div id=\"df-32e1b3ea-c2a2-4fcc-a3b6-d544eb7cae8f\" class=\"colab-df-container\">\n",
              "    <div>\n",
              "<style scoped>\n",
              "    .dataframe tbody tr th:only-of-type {\n",
              "        vertical-align: middle;\n",
              "    }\n",
              "\n",
              "    .dataframe tbody tr th {\n",
              "        vertical-align: top;\n",
              "    }\n",
              "\n",
              "    .dataframe thead th {\n",
              "        text-align: right;\n",
              "    }\n",
              "</style>\n",
              "<table border=\"1\" class=\"dataframe\">\n",
              "  <thead>\n",
              "    <tr style=\"text-align: right;\">\n",
              "      <th></th>\n",
              "      <th>BG</th>\n",
              "      <th>CGM</th>\n",
              "      <th>CHO</th>\n",
              "      <th>insulin</th>\n",
              "      <th>LBGI</th>\n",
              "      <th>HBGI</th>\n",
              "      <th>Risk</th>\n",
              "    </tr>\n",
              "    <tr>\n",
              "      <th>Time</th>\n",
              "      <th></th>\n",
              "      <th></th>\n",
              "      <th></th>\n",
              "      <th></th>\n",
              "      <th></th>\n",
              "      <th></th>\n",
              "      <th></th>\n",
              "    </tr>\n",
              "  </thead>\n",
              "  <tbody>\n",
              "    <tr>\n",
              "      <th>2023-09-06 06:00:00</th>\n",
              "      <td>152.410000</td>\n",
              "      <td>169.183949</td>\n",
              "      <td>0.0</td>\n",
              "      <td>0.0153</td>\n",
              "      <td>0.0</td>\n",
              "      <td>3.215327</td>\n",
              "      <td>3.215327</td>\n",
              "    </tr>\n",
              "    <tr>\n",
              "      <th>2023-09-06 06:03:00</th>\n",
              "      <td>152.410000</td>\n",
              "      <td>164.972022</td>\n",
              "      <td>0.0</td>\n",
              "      <td>0.0153</td>\n",
              "      <td>0.0</td>\n",
              "      <td>3.215327</td>\n",
              "      <td>3.215327</td>\n",
              "    </tr>\n",
              "    <tr>\n",
              "      <th>2023-09-06 06:06:00</th>\n",
              "      <td>152.410000</td>\n",
              "      <td>162.629373</td>\n",
              "      <td>0.0</td>\n",
              "      <td>0.0153</td>\n",
              "      <td>0.0</td>\n",
              "      <td>3.215327</td>\n",
              "      <td>3.215327</td>\n",
              "    </tr>\n",
              "    <tr>\n",
              "      <th>2023-09-06 06:09:00</th>\n",
              "      <td>152.410000</td>\n",
              "      <td>160.862710</td>\n",
              "      <td>0.0</td>\n",
              "      <td>0.0153</td>\n",
              "      <td>0.0</td>\n",
              "      <td>3.215327</td>\n",
              "      <td>3.215327</td>\n",
              "    </tr>\n",
              "    <tr>\n",
              "      <th>2023-09-06 06:12:00</th>\n",
              "      <td>152.410000</td>\n",
              "      <td>159.498950</td>\n",
              "      <td>0.0</td>\n",
              "      <td>0.0153</td>\n",
              "      <td>0.0</td>\n",
              "      <td>3.215327</td>\n",
              "      <td>3.215327</td>\n",
              "    </tr>\n",
              "    <tr>\n",
              "      <th>...</th>\n",
              "      <td>...</td>\n",
              "      <td>...</td>\n",
              "      <td>...</td>\n",
              "      <td>...</td>\n",
              "      <td>...</td>\n",
              "      <td>...</td>\n",
              "      <td>...</td>\n",
              "    </tr>\n",
              "    <tr>\n",
              "      <th>2023-09-11 05:48:00</th>\n",
              "      <td>136.220550</td>\n",
              "      <td>124.779335</td>\n",
              "      <td>0.0</td>\n",
              "      <td>0.0153</td>\n",
              "      <td>0.0</td>\n",
              "      <td>1.273483</td>\n",
              "      <td>1.273483</td>\n",
              "    </tr>\n",
              "    <tr>\n",
              "      <th>2023-09-11 05:51:00</th>\n",
              "      <td>136.443552</td>\n",
              "      <td>126.486855</td>\n",
              "      <td>0.0</td>\n",
              "      <td>0.0153</td>\n",
              "      <td>0.0</td>\n",
              "      <td>1.295406</td>\n",
              "      <td>1.295406</td>\n",
              "    </tr>\n",
              "    <tr>\n",
              "      <th>2023-09-11 05:54:00</th>\n",
              "      <td>136.664169</td>\n",
              "      <td>129.479242</td>\n",
              "      <td>0.0</td>\n",
              "      <td>0.0153</td>\n",
              "      <td>0.0</td>\n",
              "      <td>1.317243</td>\n",
              "      <td>1.317243</td>\n",
              "    </tr>\n",
              "    <tr>\n",
              "      <th>2023-09-11 05:57:00</th>\n",
              "      <td>136.882409</td>\n",
              "      <td>131.824254</td>\n",
              "      <td>0.0</td>\n",
              "      <td>0.0153</td>\n",
              "      <td>0.0</td>\n",
              "      <td>1.338991</td>\n",
              "      <td>1.338991</td>\n",
              "    </tr>\n",
              "    <tr>\n",
              "      <th>2023-09-11 06:00:00</th>\n",
              "      <td>137.098277</td>\n",
              "      <td>130.869315</td>\n",
              "      <td>NaN</td>\n",
              "      <td>NaN</td>\n",
              "      <td>0.0</td>\n",
              "      <td>1.360643</td>\n",
              "      <td>1.360643</td>\n",
              "    </tr>\n",
              "  </tbody>\n",
              "</table>\n",
              "<p>2401 rows × 7 columns</p>\n",
              "</div>\n",
              "    <div class=\"colab-df-buttons\">\n",
              "\n",
              "  <div class=\"colab-df-container\">\n",
              "    <button class=\"colab-df-convert\" onclick=\"convertToInteractive('df-32e1b3ea-c2a2-4fcc-a3b6-d544eb7cae8f')\"\n",
              "            title=\"Convert this dataframe to an interactive table.\"\n",
              "            style=\"display:none;\">\n",
              "\n",
              "  <svg xmlns=\"http://www.w3.org/2000/svg\" height=\"24px\" viewBox=\"0 -960 960 960\">\n",
              "    <path d=\"M120-120v-720h720v720H120Zm60-500h600v-160H180v160Zm220 220h160v-160H400v160Zm0 220h160v-160H400v160ZM180-400h160v-160H180v160Zm440 0h160v-160H620v160ZM180-180h160v-160H180v160Zm440 0h160v-160H620v160Z\"/>\n",
              "  </svg>\n",
              "    </button>\n",
              "\n",
              "  <style>\n",
              "    .colab-df-container {\n",
              "      display:flex;\n",
              "      gap: 12px;\n",
              "    }\n",
              "\n",
              "    .colab-df-convert {\n",
              "      background-color: #E8F0FE;\n",
              "      border: none;\n",
              "      border-radius: 50%;\n",
              "      cursor: pointer;\n",
              "      display: none;\n",
              "      fill: #1967D2;\n",
              "      height: 32px;\n",
              "      padding: 0 0 0 0;\n",
              "      width: 32px;\n",
              "    }\n",
              "\n",
              "    .colab-df-convert:hover {\n",
              "      background-color: #E2EBFA;\n",
              "      box-shadow: 0px 1px 2px rgba(60, 64, 67, 0.3), 0px 1px 3px 1px rgba(60, 64, 67, 0.15);\n",
              "      fill: #174EA6;\n",
              "    }\n",
              "\n",
              "    .colab-df-buttons div {\n",
              "      margin-bottom: 4px;\n",
              "    }\n",
              "\n",
              "    [theme=dark] .colab-df-convert {\n",
              "      background-color: #3B4455;\n",
              "      fill: #D2E3FC;\n",
              "    }\n",
              "\n",
              "    [theme=dark] .colab-df-convert:hover {\n",
              "      background-color: #434B5C;\n",
              "      box-shadow: 0px 1px 3px 1px rgba(0, 0, 0, 0.15);\n",
              "      filter: drop-shadow(0px 1px 2px rgba(0, 0, 0, 0.3));\n",
              "      fill: #FFFFFF;\n",
              "    }\n",
              "  </style>\n",
              "\n",
              "    <script>\n",
              "      const buttonEl =\n",
              "        document.querySelector('#df-32e1b3ea-c2a2-4fcc-a3b6-d544eb7cae8f button.colab-df-convert');\n",
              "      buttonEl.style.display =\n",
              "        google.colab.kernel.accessAllowed ? 'block' : 'none';\n",
              "\n",
              "      async function convertToInteractive(key) {\n",
              "        const element = document.querySelector('#df-32e1b3ea-c2a2-4fcc-a3b6-d544eb7cae8f');\n",
              "        const dataTable =\n",
              "          await google.colab.kernel.invokeFunction('convertToInteractive',\n",
              "                                                    [key], {});\n",
              "        if (!dataTable) return;\n",
              "\n",
              "        const docLinkHtml = 'Like what you see? Visit the ' +\n",
              "          '<a target=\"_blank\" href=https://colab.research.google.com/notebooks/data_table.ipynb>data table notebook</a>'\n",
              "          + ' to learn more about interactive tables.';\n",
              "        element.innerHTML = '';\n",
              "        dataTable['output_type'] = 'display_data';\n",
              "        await google.colab.output.renderOutput(dataTable, element);\n",
              "        const docLink = document.createElement('div');\n",
              "        docLink.innerHTML = docLinkHtml;\n",
              "        element.appendChild(docLink);\n",
              "      }\n",
              "    </script>\n",
              "  </div>\n",
              "\n",
              "\n",
              "<div id=\"df-7cebe010-7967-4af1-ab42-043cc50da853\">\n",
              "  <button class=\"colab-df-quickchart\" onclick=\"quickchart('df-7cebe010-7967-4af1-ab42-043cc50da853')\"\n",
              "            title=\"Suggest charts.\"\n",
              "            style=\"display:none;\">\n",
              "\n",
              "<svg xmlns=\"http://www.w3.org/2000/svg\" height=\"24px\"viewBox=\"0 0 24 24\"\n",
              "     width=\"24px\">\n",
              "    <g>\n",
              "        <path d=\"M19 3H5c-1.1 0-2 .9-2 2v14c0 1.1.9 2 2 2h14c1.1 0 2-.9 2-2V5c0-1.1-.9-2-2-2zM9 17H7v-7h2v7zm4 0h-2V7h2v10zm4 0h-2v-4h2v4z\"/>\n",
              "    </g>\n",
              "</svg>\n",
              "  </button>\n",
              "\n",
              "<style>\n",
              "  .colab-df-quickchart {\n",
              "      --bg-color: #E8F0FE;\n",
              "      --fill-color: #1967D2;\n",
              "      --hover-bg-color: #E2EBFA;\n",
              "      --hover-fill-color: #174EA6;\n",
              "      --disabled-fill-color: #AAA;\n",
              "      --disabled-bg-color: #DDD;\n",
              "  }\n",
              "\n",
              "  [theme=dark] .colab-df-quickchart {\n",
              "      --bg-color: #3B4455;\n",
              "      --fill-color: #D2E3FC;\n",
              "      --hover-bg-color: #434B5C;\n",
              "      --hover-fill-color: #FFFFFF;\n",
              "      --disabled-bg-color: #3B4455;\n",
              "      --disabled-fill-color: #666;\n",
              "  }\n",
              "\n",
              "  .colab-df-quickchart {\n",
              "    background-color: var(--bg-color);\n",
              "    border: none;\n",
              "    border-radius: 50%;\n",
              "    cursor: pointer;\n",
              "    display: none;\n",
              "    fill: var(--fill-color);\n",
              "    height: 32px;\n",
              "    padding: 0;\n",
              "    width: 32px;\n",
              "  }\n",
              "\n",
              "  .colab-df-quickchart:hover {\n",
              "    background-color: var(--hover-bg-color);\n",
              "    box-shadow: 0 1px 2px rgba(60, 64, 67, 0.3), 0 1px 3px 1px rgba(60, 64, 67, 0.15);\n",
              "    fill: var(--button-hover-fill-color);\n",
              "  }\n",
              "\n",
              "  .colab-df-quickchart-complete:disabled,\n",
              "  .colab-df-quickchart-complete:disabled:hover {\n",
              "    background-color: var(--disabled-bg-color);\n",
              "    fill: var(--disabled-fill-color);\n",
              "    box-shadow: none;\n",
              "  }\n",
              "\n",
              "  .colab-df-spinner {\n",
              "    border: 2px solid var(--fill-color);\n",
              "    border-color: transparent;\n",
              "    border-bottom-color: var(--fill-color);\n",
              "    animation:\n",
              "      spin 1s steps(1) infinite;\n",
              "  }\n",
              "\n",
              "  @keyframes spin {\n",
              "    0% {\n",
              "      border-color: transparent;\n",
              "      border-bottom-color: var(--fill-color);\n",
              "      border-left-color: var(--fill-color);\n",
              "    }\n",
              "    20% {\n",
              "      border-color: transparent;\n",
              "      border-left-color: var(--fill-color);\n",
              "      border-top-color: var(--fill-color);\n",
              "    }\n",
              "    30% {\n",
              "      border-color: transparent;\n",
              "      border-left-color: var(--fill-color);\n",
              "      border-top-color: var(--fill-color);\n",
              "      border-right-color: var(--fill-color);\n",
              "    }\n",
              "    40% {\n",
              "      border-color: transparent;\n",
              "      border-right-color: var(--fill-color);\n",
              "      border-top-color: var(--fill-color);\n",
              "    }\n",
              "    60% {\n",
              "      border-color: transparent;\n",
              "      border-right-color: var(--fill-color);\n",
              "    }\n",
              "    80% {\n",
              "      border-color: transparent;\n",
              "      border-right-color: var(--fill-color);\n",
              "      border-bottom-color: var(--fill-color);\n",
              "    }\n",
              "    90% {\n",
              "      border-color: transparent;\n",
              "      border-bottom-color: var(--fill-color);\n",
              "    }\n",
              "  }\n",
              "</style>\n",
              "\n",
              "  <script>\n",
              "    async function quickchart(key) {\n",
              "      const quickchartButtonEl =\n",
              "        document.querySelector('#' + key + ' button');\n",
              "      quickchartButtonEl.disabled = true;  // To prevent multiple clicks.\n",
              "      quickchartButtonEl.classList.add('colab-df-spinner');\n",
              "      try {\n",
              "        const charts = await google.colab.kernel.invokeFunction(\n",
              "            'suggestCharts', [key], {});\n",
              "      } catch (error) {\n",
              "        console.error('Error during call to suggestCharts:', error);\n",
              "      }\n",
              "      quickchartButtonEl.classList.remove('colab-df-spinner');\n",
              "      quickchartButtonEl.classList.add('colab-df-quickchart-complete');\n",
              "    }\n",
              "    (() => {\n",
              "      let quickchartButtonEl =\n",
              "        document.querySelector('#df-7cebe010-7967-4af1-ab42-043cc50da853 button');\n",
              "      quickchartButtonEl.style.display =\n",
              "        google.colab.kernel.accessAllowed ? 'block' : 'none';\n",
              "    })();\n",
              "  </script>\n",
              "</div>\n",
              "    </div>\n",
              "  </div>\n"
            ]
          },
          "metadata": {},
          "execution_count": 17
        }
      ]
    },
    {
      "cell_type": "code",
      "source": [
        "'{:s}_{:02d}'.format(patient.name,11)"
      ],
      "metadata": {
        "colab": {
          "base_uri": "https://localhost:8080/",
          "height": 36
        },
        "id": "QxaZcG8OawVY",
        "outputId": "96c7d7a1-8792-4bea-aa8b-e693110dc067"
      },
      "execution_count": null,
      "outputs": [
        {
          "output_type": "execute_result",
          "data": {
            "text/plain": [
              "'adolescent#002_11'"
            ],
            "application/vnd.google.colaboratory.intrinsic+json": {
              "type": "string"
            }
          },
          "metadata": {},
          "execution_count": 18
        }
      ]
    },
    {
      "cell_type": "code",
      "source": [
        "vpatient_params.values"
      ],
      "metadata": {
        "colab": {
          "base_uri": "https://localhost:8080/"
        },
        "id": "khresD9ig47x",
        "outputId": "2a11024b-27e0-4f7e-a040-3d6dca82d4f4"
      },
      "execution_count": null,
      "outputs": [
        {
          "output_type": "execute_result",
          "data": {
            "text/plain": [
              "array([['adolescent#001', 1, 0, ..., 93.2258828462, 11.5048231338, 0],\n",
              "       ['adolescent#002', 2, 0, ..., 47.1721248798, 4.19657924407, 0],\n",
              "       ['adolescent#003', 3, 0, ..., 81.3429092974, 6.58878876028, 0],\n",
              "       ...,\n",
              "       ['child#008', 88, 0, ..., 119.914029849, 5.46619598839, 0],\n",
              "       ['child#009', 89, 0, ..., 31.539253961, 8.92304270886, 0],\n",
              "       ['child#010', 100, 0, ..., 54.4625955612, 4.82258449688, 0]],\n",
              "      dtype=object)"
            ]
          },
          "metadata": {},
          "execution_count": 30
        }
      ]
    },
    {
      "cell_type": "code",
      "source": [
        "print(cgm_data.shape)\n",
        "print(vpatient_params.values.shape)\n"
      ],
      "metadata": {
        "colab": {
          "base_uri": "https://localhost:8080/"
        },
        "id": "AiBsDtq1h2W-",
        "outputId": "609f22ba-35b7-4712-ba9f-5968046d4926"
      },
      "execution_count": null,
      "outputs": [
        {
          "output_type": "stream",
          "name": "stdout",
          "text": [
            "(61, 8)\n",
            "(30, 62)\n"
          ]
        }
      ]
    },
    {
      "cell_type": "code",
      "source": [
        "import numpy as np\n",
        "import pandas as pd\n",
        "import torch\n",
        "import torch.nn as nn\n",
        "import torch.optim as optim\n",
        "from sklearn.model_selection import train_test_split\n",
        "from sklearn.preprocessing import StandardScaler\n",
        "\n",
        "# Load target parameter data\n",
        "\n",
        "vpatient_params=pd.read_csv('vpatient_params.csv')\n",
        "cgm_data = pd.read_csv('adolescent#002.csv')\n",
        "\n",
        "\n",
        "# Load your CGM, bolus, meal data (assuming they are already loaded)\n",
        "# For demonstration, let's assume you've loaded them into 'cgm_data', 'bolus_data', and 'meal_data'\n",
        "\n",
        "# Combine input data\n",
        "input_data = cgm_data\n",
        "\n",
        "# Split the data into training and testing sets\n",
        "X_train, X_test, y_train, y_test = train_test_split(cgm_data , vpatient_params.values, test_size=0.2, random_state=42)\n",
        "\n",
        "# Standardize input features\n",
        "scaler = StandardScaler()\n",
        "X_train_scaled = scaler.fit_transform(X_train)\n",
        "X_test_scaled = scaler.transform(X_test)\n",
        "\n",
        "# Convert data to PyTorch tensors\n",
        "X_train_tensor = torch.tensor(X_train_scaled, dtype=torch.float32)\n",
        "y_train_tensor = torch.tensor(y_train, dtype=torch.float32)\n",
        "X_test_tensor = torch.tensor(X_test_scaled, dtype=torch.float32)\n",
        "\n",
        "# Define a neural network model\n",
        "class ParameterEstimationModel(nn.Module):\n",
        "    def __init__(self, input_size, hidden_size, output_size):\n",
        "        super(ParameterEstimationModel, self).__init__()\n",
        "        self.fc1 = nn.Linear(input_size, hidden_size)\n",
        "        self.relu = nn.ReLU()\n",
        "        self.fc2 = nn.Linear(hidden_size, output_size)\n",
        "\n",
        "    def forward(self, x):\n",
        "        x = self.fc1(x)\n",
        "        x = self.relu(x)\n",
        "        x = self.fc2(x)\n",
        "        return x\n",
        "\n",
        "# Initialize the model\n",
        "input_size = X_train_scaled.shape[1]\n",
        "hidden_size = 128\n",
        "output_size = target_params.shape[1]  # Adjust based on the number of target parameters\n",
        "model = ParameterEstimationModel(input_size, hidden_size, output_size)\n",
        "\n",
        "# Define loss function and optimizer\n",
        "criterion = nn.MSELoss()\n",
        "optimizer = optim.Adam(model.parameters(), lr=0.001)\n",
        "\n",
        "# Training loop\n",
        "num_epochs = 1000\n",
        "for epoch in range(num_epochs):\n",
        "    model.train()\n",
        "    optimizer.zero_grad()\n",
        "    outputs = model(X_train_tensor)\n",
        "    loss = criterion(outputs, y_train_tensor)\n",
        "    loss.backward()\n",
        "    optimizer.step()\n",
        "    if (epoch + 1) % 100 == 0:\n",
        "        print(f'Epoch [{epoch+1}/{num_epochs}], Loss: {loss.item():.4f}')\n",
        "\n",
        "# Evaluation\n",
        "model.eval()\n",
        "with torch.no_grad():\n",
        "    test_outputs = model(X_test_tensor)\n",
        "    test_loss = criterion(test_outputs, torch.tensor(y_test, dtype=torch.float32))\n",
        "    print(f'Test Loss: {test_loss.item():.4f}')"
      ],
      "metadata": {
        "colab": {
          "base_uri": "https://localhost:8080/",
          "height": 317
        },
        "id": "KHXqRLa5bHkI",
        "outputId": "4b5ff335-17d0-4417-f090-48c6c8b8f408"
      },
      "execution_count": null,
      "outputs": [
        {
          "output_type": "error",
          "ename": "KeyboardInterrupt",
          "evalue": "ignored",
          "traceback": [
            "\u001b[0;31m---------------------------------------------------------------------------\u001b[0m",
            "\u001b[0;31mKeyboardInterrupt\u001b[0m                         Traceback (most recent call last)",
            "\u001b[0;32m<ipython-input-4-754d0625be36>\u001b[0m in \u001b[0;36m<cell line: 3>\u001b[0;34m()\u001b[0m\n\u001b[1;32m      1\u001b[0m \u001b[0;32mimport\u001b[0m \u001b[0mnumpy\u001b[0m \u001b[0;32mas\u001b[0m \u001b[0mnp\u001b[0m\u001b[0;34m\u001b[0m\u001b[0;34m\u001b[0m\u001b[0m\n\u001b[1;32m      2\u001b[0m \u001b[0;32mimport\u001b[0m \u001b[0mpandas\u001b[0m \u001b[0;32mas\u001b[0m \u001b[0mpd\u001b[0m\u001b[0;34m\u001b[0m\u001b[0;34m\u001b[0m\u001b[0m\n\u001b[0;32m----> 3\u001b[0;31m \u001b[0;32mimport\u001b[0m \u001b[0mtorch\u001b[0m\u001b[0;34m\u001b[0m\u001b[0;34m\u001b[0m\u001b[0m\n\u001b[0m\u001b[1;32m      4\u001b[0m \u001b[0;32mimport\u001b[0m \u001b[0mtorch\u001b[0m\u001b[0;34m.\u001b[0m\u001b[0mnn\u001b[0m \u001b[0;32mas\u001b[0m \u001b[0mnn\u001b[0m\u001b[0;34m\u001b[0m\u001b[0;34m\u001b[0m\u001b[0m\n\u001b[1;32m      5\u001b[0m \u001b[0;32mimport\u001b[0m \u001b[0mtorch\u001b[0m\u001b[0;34m.\u001b[0m\u001b[0moptim\u001b[0m \u001b[0;32mas\u001b[0m \u001b[0moptim\u001b[0m\u001b[0;34m\u001b[0m\u001b[0;34m\u001b[0m\u001b[0m\n",
            "\u001b[0;32m/usr/local/lib/python3.10/dist-packages/torch/__init__.py\u001b[0m in \u001b[0;36m<module>\u001b[0;34m\u001b[0m\n\u001b[1;32m   1460\u001b[0m \u001b[0;34m\u001b[0m\u001b[0m\n\u001b[1;32m   1461\u001b[0m \u001b[0;31m# expose return_types\u001b[0m\u001b[0;34m\u001b[0m\u001b[0;34m\u001b[0m\u001b[0m\n\u001b[0;32m-> 1462\u001b[0;31m \u001b[0;32mfrom\u001b[0m \u001b[0;34m.\u001b[0m \u001b[0;32mimport\u001b[0m \u001b[0mreturn_types\u001b[0m\u001b[0;34m\u001b[0m\u001b[0;34m\u001b[0m\u001b[0m\n\u001b[0m\u001b[1;32m   1463\u001b[0m \u001b[0;32mfrom\u001b[0m \u001b[0;34m.\u001b[0m \u001b[0;32mimport\u001b[0m \u001b[0mlibrary\u001b[0m\u001b[0;34m\u001b[0m\u001b[0;34m\u001b[0m\u001b[0m\n\u001b[1;32m   1464\u001b[0m \u001b[0;32mif\u001b[0m \u001b[0;32mnot\u001b[0m \u001b[0mTYPE_CHECKING\u001b[0m\u001b[0;34m:\u001b[0m\u001b[0;34m\u001b[0m\u001b[0;34m\u001b[0m\u001b[0m\n",
            "\u001b[0;32m/usr/lib/python3.10/importlib/_bootstrap.py\u001b[0m in \u001b[0;36m_find_and_load\u001b[0;34m(name, import_)\u001b[0m\n",
            "\u001b[0;32m/usr/lib/python3.10/importlib/_bootstrap.py\u001b[0m in \u001b[0;36m_find_and_load_unlocked\u001b[0;34m(name, import_)\u001b[0m\n",
            "\u001b[0;32m/usr/lib/python3.10/importlib/_bootstrap.py\u001b[0m in \u001b[0;36m_load_unlocked\u001b[0;34m(spec)\u001b[0m\n",
            "\u001b[0;32m/usr/lib/python3.10/importlib/_bootstrap_external.py\u001b[0m in \u001b[0;36mexec_module\u001b[0;34m(self, module)\u001b[0m\n",
            "\u001b[0;32m/usr/lib/python3.10/importlib/_bootstrap_external.py\u001b[0m in \u001b[0;36mget_code\u001b[0;34m(self, fullname)\u001b[0m\n",
            "\u001b[0;32m/usr/lib/python3.10/importlib/_bootstrap_external.py\u001b[0m in \u001b[0;36mget_data\u001b[0;34m(self, path)\u001b[0m\n",
            "\u001b[0;31mKeyboardInterrupt\u001b[0m: "
          ]
        }
      ]
    },
    {
      "cell_type": "code",
      "source": [
        "pip install gym\n"
      ],
      "metadata": {
        "colab": {
          "base_uri": "https://localhost:8080/"
        },
        "id": "WBpF-6Vx7Ej-",
        "outputId": "3d05294c-9c9a-45ed-9dc1-32e205276c8a"
      },
      "execution_count": null,
      "outputs": [
        {
          "output_type": "stream",
          "name": "stdout",
          "text": [
            "Requirement already satisfied: gym in /usr/local/lib/python3.10/dist-packages (0.9.4)\n",
            "Requirement already satisfied: numpy>=1.10.4 in /usr/local/lib/python3.10/dist-packages (from gym) (1.23.5)\n",
            "Requirement already satisfied: requests>=2.0 in /usr/local/lib/python3.10/dist-packages (from gym) (2.31.0)\n",
            "Requirement already satisfied: six in /usr/local/lib/python3.10/dist-packages (from gym) (1.16.0)\n",
            "Requirement already satisfied: pyglet>=1.2.0 in /usr/local/lib/python3.10/dist-packages (from gym) (2.0.9)\n",
            "Requirement already satisfied: charset-normalizer<4,>=2 in /usr/local/lib/python3.10/dist-packages (from requests>=2.0->gym) (3.2.0)\n",
            "Requirement already satisfied: idna<4,>=2.5 in /usr/local/lib/python3.10/dist-packages (from requests>=2.0->gym) (3.4)\n",
            "Requirement already satisfied: urllib3<3,>=1.21.1 in /usr/local/lib/python3.10/dist-packages (from requests>=2.0->gym) (2.0.4)\n",
            "Requirement already satisfied: certifi>=2017.4.17 in /usr/local/lib/python3.10/dist-packages (from requests>=2.0->gym) (2023.7.22)\n"
          ]
        }
      ]
    },
    {
      "cell_type": "code",
      "source": [
        "pip install scipy\n"
      ],
      "metadata": {
        "colab": {
          "base_uri": "https://localhost:8080/"
        },
        "id": "fcXEmcWH-B-y",
        "outputId": "07469e1d-2aa8-46a7-dad4-a68d9fc39c0b"
      },
      "execution_count": null,
      "outputs": [
        {
          "output_type": "stream",
          "name": "stdout",
          "text": [
            "Requirement already satisfied: scipy in /usr/local/lib/python3.10/dist-packages (1.10.1)\n",
            "Requirement already satisfied: numpy<1.27.0,>=1.19.5 in /usr/local/lib/python3.10/dist-packages (from scipy) (1.23.5)\n"
          ]
        }
      ]
    },
    {
      "cell_type": "code",
      "source": [
        "pip install tensorflow"
      ],
      "metadata": {
        "colab": {
          "base_uri": "https://localhost:8080/"
        },
        "id": "BcYdwUw0-FEk",
        "outputId": "7ed05438-b858-4163-df92-dd421a127283"
      },
      "execution_count": null,
      "outputs": [
        {
          "output_type": "stream",
          "name": "stdout",
          "text": [
            "Requirement already satisfied: tensorflow in /usr/local/lib/python3.10/dist-packages (2.12.0)\n",
            "Requirement already satisfied: absl-py>=1.0.0 in /usr/local/lib/python3.10/dist-packages (from tensorflow) (1.4.0)\n",
            "Requirement already satisfied: astunparse>=1.6.0 in /usr/local/lib/python3.10/dist-packages (from tensorflow) (1.6.3)\n",
            "Requirement already satisfied: flatbuffers>=2.0 in /usr/local/lib/python3.10/dist-packages (from tensorflow) (23.5.26)\n",
            "Requirement already satisfied: gast<=0.4.0,>=0.2.1 in /usr/local/lib/python3.10/dist-packages (from tensorflow) (0.4.0)\n",
            "Requirement already satisfied: google-pasta>=0.1.1 in /usr/local/lib/python3.10/dist-packages (from tensorflow) (0.2.0)\n",
            "Requirement already satisfied: grpcio<2.0,>=1.24.3 in /usr/local/lib/python3.10/dist-packages (from tensorflow) (1.57.0)\n",
            "Requirement already satisfied: h5py>=2.9.0 in /usr/local/lib/python3.10/dist-packages (from tensorflow) (3.9.0)\n",
            "Requirement already satisfied: jax>=0.3.15 in /usr/local/lib/python3.10/dist-packages (from tensorflow) (0.4.14)\n",
            "Requirement already satisfied: keras<2.13,>=2.12.0 in /usr/local/lib/python3.10/dist-packages (from tensorflow) (2.12.0)\n",
            "Requirement already satisfied: libclang>=13.0.0 in /usr/local/lib/python3.10/dist-packages (from tensorflow) (16.0.6)\n",
            "Requirement already satisfied: numpy<1.24,>=1.22 in /usr/local/lib/python3.10/dist-packages (from tensorflow) (1.23.5)\n",
            "Requirement already satisfied: opt-einsum>=2.3.2 in /usr/local/lib/python3.10/dist-packages (from tensorflow) (3.3.0)\n",
            "Requirement already satisfied: packaging in /usr/local/lib/python3.10/dist-packages (from tensorflow) (23.1)\n",
            "Requirement already satisfied: protobuf!=4.21.0,!=4.21.1,!=4.21.2,!=4.21.3,!=4.21.4,!=4.21.5,<5.0.0dev,>=3.20.3 in /usr/local/lib/python3.10/dist-packages (from tensorflow) (3.20.3)\n",
            "Requirement already satisfied: setuptools in /usr/local/lib/python3.10/dist-packages (from tensorflow) (67.7.2)\n",
            "Requirement already satisfied: six>=1.12.0 in /usr/local/lib/python3.10/dist-packages (from tensorflow) (1.16.0)\n",
            "Requirement already satisfied: tensorboard<2.13,>=2.12 in /usr/local/lib/python3.10/dist-packages (from tensorflow) (2.12.3)\n",
            "Requirement already satisfied: tensorflow-estimator<2.13,>=2.12.0 in /usr/local/lib/python3.10/dist-packages (from tensorflow) (2.12.0)\n",
            "Requirement already satisfied: termcolor>=1.1.0 in /usr/local/lib/python3.10/dist-packages (from tensorflow) (2.3.0)\n",
            "Requirement already satisfied: typing-extensions>=3.6.6 in /usr/local/lib/python3.10/dist-packages (from tensorflow) (4.7.1)\n",
            "Requirement already satisfied: wrapt<1.15,>=1.11.0 in /usr/local/lib/python3.10/dist-packages (from tensorflow) (1.14.1)\n",
            "Requirement already satisfied: tensorflow-io-gcs-filesystem>=0.23.1 in /usr/local/lib/python3.10/dist-packages (from tensorflow) (0.33.0)\n",
            "Requirement already satisfied: wheel<1.0,>=0.23.0 in /usr/local/lib/python3.10/dist-packages (from astunparse>=1.6.0->tensorflow) (0.41.2)\n",
            "Requirement already satisfied: ml-dtypes>=0.2.0 in /usr/local/lib/python3.10/dist-packages (from jax>=0.3.15->tensorflow) (0.2.0)\n",
            "Requirement already satisfied: scipy>=1.7 in /usr/local/lib/python3.10/dist-packages (from jax>=0.3.15->tensorflow) (1.10.1)\n",
            "Requirement already satisfied: google-auth<3,>=1.6.3 in /usr/local/lib/python3.10/dist-packages (from tensorboard<2.13,>=2.12->tensorflow) (2.17.3)\n",
            "Requirement already satisfied: google-auth-oauthlib<1.1,>=0.5 in /usr/local/lib/python3.10/dist-packages (from tensorboard<2.13,>=2.12->tensorflow) (1.0.0)\n",
            "Requirement already satisfied: markdown>=2.6.8 in /usr/local/lib/python3.10/dist-packages (from tensorboard<2.13,>=2.12->tensorflow) (3.4.4)\n",
            "Requirement already satisfied: requests<3,>=2.21.0 in /usr/local/lib/python3.10/dist-packages (from tensorboard<2.13,>=2.12->tensorflow) (2.31.0)\n",
            "Requirement already satisfied: tensorboard-data-server<0.8.0,>=0.7.0 in /usr/local/lib/python3.10/dist-packages (from tensorboard<2.13,>=2.12->tensorflow) (0.7.1)\n",
            "Requirement already satisfied: werkzeug>=1.0.1 in /usr/local/lib/python3.10/dist-packages (from tensorboard<2.13,>=2.12->tensorflow) (2.3.7)\n",
            "Requirement already satisfied: cachetools<6.0,>=2.0.0 in /usr/local/lib/python3.10/dist-packages (from google-auth<3,>=1.6.3->tensorboard<2.13,>=2.12->tensorflow) (5.3.1)\n",
            "Requirement already satisfied: pyasn1-modules>=0.2.1 in /usr/local/lib/python3.10/dist-packages (from google-auth<3,>=1.6.3->tensorboard<2.13,>=2.12->tensorflow) (0.3.0)\n",
            "Requirement already satisfied: rsa<5,>=3.1.4 in /usr/local/lib/python3.10/dist-packages (from google-auth<3,>=1.6.3->tensorboard<2.13,>=2.12->tensorflow) (4.9)\n",
            "Requirement already satisfied: requests-oauthlib>=0.7.0 in /usr/local/lib/python3.10/dist-packages (from google-auth-oauthlib<1.1,>=0.5->tensorboard<2.13,>=2.12->tensorflow) (1.3.1)\n",
            "Requirement already satisfied: charset-normalizer<4,>=2 in /usr/local/lib/python3.10/dist-packages (from requests<3,>=2.21.0->tensorboard<2.13,>=2.12->tensorflow) (3.2.0)\n",
            "Requirement already satisfied: idna<4,>=2.5 in /usr/local/lib/python3.10/dist-packages (from requests<3,>=2.21.0->tensorboard<2.13,>=2.12->tensorflow) (3.4)\n",
            "Requirement already satisfied: urllib3<3,>=1.21.1 in /usr/local/lib/python3.10/dist-packages (from requests<3,>=2.21.0->tensorboard<2.13,>=2.12->tensorflow) (2.0.4)\n",
            "Requirement already satisfied: certifi>=2017.4.17 in /usr/local/lib/python3.10/dist-packages (from requests<3,>=2.21.0->tensorboard<2.13,>=2.12->tensorflow) (2023.7.22)\n",
            "Requirement already satisfied: MarkupSafe>=2.1.1 in /usr/local/lib/python3.10/dist-packages (from werkzeug>=1.0.1->tensorboard<2.13,>=2.12->tensorflow) (2.1.3)\n",
            "Requirement already satisfied: pyasn1<0.6.0,>=0.4.6 in /usr/local/lib/python3.10/dist-packages (from pyasn1-modules>=0.2.1->google-auth<3,>=1.6.3->tensorboard<2.13,>=2.12->tensorflow) (0.5.0)\n",
            "Requirement already satisfied: oauthlib>=3.0.0 in /usr/local/lib/python3.10/dist-packages (from requests-oauthlib>=0.7.0->google-auth-oauthlib<1.1,>=0.5->tensorboard<2.13,>=2.12->tensorflow) (3.2.2)\n"
          ]
        }
      ]
    },
    {
      "cell_type": "code",
      "source": [
        "pip install numpy"
      ],
      "metadata": {
        "colab": {
          "base_uri": "https://localhost:8080/"
        },
        "id": "9mSzJto6-IIw",
        "outputId": "f6af4722-a33f-4a44-a395-7a02604abe93"
      },
      "execution_count": null,
      "outputs": [
        {
          "output_type": "stream",
          "name": "stdout",
          "text": [
            "Requirement already satisfied: numpy in /usr/local/lib/python3.10/dist-packages (1.23.5)\n"
          ]
        }
      ]
    },
    {
      "cell_type": "code",
      "source": [
        "pip install stable-baselines3"
      ],
      "metadata": {
        "colab": {
          "base_uri": "https://localhost:8080/"
        },
        "id": "-JF8mQAJ-ONr",
        "outputId": "8eaa876f-467b-4816-c658-b1077d271567"
      },
      "execution_count": null,
      "outputs": [
        {
          "output_type": "stream",
          "name": "stdout",
          "text": [
            "Collecting stable-baselines3\n",
            "  Downloading stable_baselines3-2.1.0-py3-none-any.whl (178 kB)\n",
            "\u001b[2K     \u001b[90m━━━━━━━━━━━━━━━━━━━━━━━━━━━━━━━━━━━━━━━\u001b[0m \u001b[32m178.7/178.7 kB\u001b[0m \u001b[31m2.4 MB/s\u001b[0m eta \u001b[36m0:00:00\u001b[0m\n",
            "\u001b[?25hCollecting gymnasium<0.30,>=0.28.1 (from stable-baselines3)\n",
            "  Downloading gymnasium-0.29.1-py3-none-any.whl (953 kB)\n",
            "\u001b[2K     \u001b[90m━━━━━━━━━━━━━━━━━━━━━━━━━━━━━━━━━━━━━━\u001b[0m \u001b[32m953.9/953.9 kB\u001b[0m \u001b[31m16.7 MB/s\u001b[0m eta \u001b[36m0:00:00\u001b[0m\n",
            "\u001b[?25hRequirement already satisfied: numpy>=1.20 in /usr/local/lib/python3.10/dist-packages (from stable-baselines3) (1.23.5)\n",
            "Requirement already satisfied: torch>=1.13 in /usr/local/lib/python3.10/dist-packages (from stable-baselines3) (2.0.1+cu118)\n",
            "Requirement already satisfied: cloudpickle in /usr/local/lib/python3.10/dist-packages (from stable-baselines3) (2.2.1)\n",
            "Requirement already satisfied: pandas in /usr/local/lib/python3.10/dist-packages (from stable-baselines3) (1.5.3)\n",
            "Requirement already satisfied: matplotlib in /usr/local/lib/python3.10/dist-packages (from stable-baselines3) (3.7.1)\n",
            "Requirement already satisfied: typing-extensions>=4.3.0 in /usr/local/lib/python3.10/dist-packages (from gymnasium<0.30,>=0.28.1->stable-baselines3) (4.7.1)\n",
            "Collecting farama-notifications>=0.0.1 (from gymnasium<0.30,>=0.28.1->stable-baselines3)\n",
            "  Downloading Farama_Notifications-0.0.4-py3-none-any.whl (2.5 kB)\n",
            "Requirement already satisfied: filelock in /usr/local/lib/python3.10/dist-packages (from torch>=1.13->stable-baselines3) (3.12.2)\n",
            "Requirement already satisfied: sympy in /usr/local/lib/python3.10/dist-packages (from torch>=1.13->stable-baselines3) (1.12)\n",
            "Requirement already satisfied: networkx in /usr/local/lib/python3.10/dist-packages (from torch>=1.13->stable-baselines3) (3.1)\n",
            "Requirement already satisfied: jinja2 in /usr/local/lib/python3.10/dist-packages (from torch>=1.13->stable-baselines3) (3.1.2)\n",
            "Requirement already satisfied: triton==2.0.0 in /usr/local/lib/python3.10/dist-packages (from torch>=1.13->stable-baselines3) (2.0.0)\n",
            "Requirement already satisfied: cmake in /usr/local/lib/python3.10/dist-packages (from triton==2.0.0->torch>=1.13->stable-baselines3) (3.27.2)\n",
            "Requirement already satisfied: lit in /usr/local/lib/python3.10/dist-packages (from triton==2.0.0->torch>=1.13->stable-baselines3) (16.0.6)\n",
            "Requirement already satisfied: contourpy>=1.0.1 in /usr/local/lib/python3.10/dist-packages (from matplotlib->stable-baselines3) (1.1.0)\n",
            "Requirement already satisfied: cycler>=0.10 in /usr/local/lib/python3.10/dist-packages (from matplotlib->stable-baselines3) (0.11.0)\n",
            "Requirement already satisfied: fonttools>=4.22.0 in /usr/local/lib/python3.10/dist-packages (from matplotlib->stable-baselines3) (4.42.1)\n",
            "Requirement already satisfied: kiwisolver>=1.0.1 in /usr/local/lib/python3.10/dist-packages (from matplotlib->stable-baselines3) (1.4.4)\n",
            "Requirement already satisfied: packaging>=20.0 in /usr/local/lib/python3.10/dist-packages (from matplotlib->stable-baselines3) (23.1)\n",
            "Requirement already satisfied: pillow>=6.2.0 in /usr/local/lib/python3.10/dist-packages (from matplotlib->stable-baselines3) (9.4.0)\n",
            "Requirement already satisfied: pyparsing>=2.3.1 in /usr/local/lib/python3.10/dist-packages (from matplotlib->stable-baselines3) (3.1.1)\n",
            "Requirement already satisfied: python-dateutil>=2.7 in /usr/local/lib/python3.10/dist-packages (from matplotlib->stable-baselines3) (2.8.2)\n",
            "Requirement already satisfied: pytz>=2020.1 in /usr/local/lib/python3.10/dist-packages (from pandas->stable-baselines3) (2023.3)\n",
            "Requirement already satisfied: six>=1.5 in /usr/local/lib/python3.10/dist-packages (from python-dateutil>=2.7->matplotlib->stable-baselines3) (1.16.0)\n",
            "Requirement already satisfied: MarkupSafe>=2.0 in /usr/local/lib/python3.10/dist-packages (from jinja2->torch>=1.13->stable-baselines3) (2.1.3)\n",
            "Requirement already satisfied: mpmath>=0.19 in /usr/local/lib/python3.10/dist-packages (from sympy->torch>=1.13->stable-baselines3) (1.3.0)\n",
            "Installing collected packages: farama-notifications, gymnasium, stable-baselines3\n",
            "Successfully installed farama-notifications-0.0.4 gymnasium-0.29.1 stable-baselines3-2.1.0\n"
          ]
        }
      ]
    },
    {
      "cell_type": "code",
      "source": [
        "pip install ddpg\n"
      ],
      "metadata": {
        "colab": {
          "base_uri": "https://localhost:8080/"
        },
        "id": "5MrXLb1n-nul",
        "outputId": "1148994e-314d-4145-c00d-8cc135c9cca3"
      },
      "execution_count": null,
      "outputs": [
        {
          "output_type": "stream",
          "name": "stdout",
          "text": [
            "Collecting ddpg\n",
            "  Downloading ddpg-0.2.0-py2.py3-none-any.whl (12 kB)\n",
            "Requirement already satisfied: matplotlib in /usr/local/lib/python3.10/dist-packages (from ddpg) (3.7.1)\n",
            "Requirement already satisfied: numpy in /usr/local/lib/python3.10/dist-packages (from ddpg) (1.23.5)\n",
            "Requirement already satisfied: tensorflow in /usr/local/lib/python3.10/dist-packages (from ddpg) (2.12.0)\n",
            "Requirement already satisfied: contourpy>=1.0.1 in /usr/local/lib/python3.10/dist-packages (from matplotlib->ddpg) (1.1.0)\n",
            "Requirement already satisfied: cycler>=0.10 in /usr/local/lib/python3.10/dist-packages (from matplotlib->ddpg) (0.11.0)\n",
            "Requirement already satisfied: fonttools>=4.22.0 in /usr/local/lib/python3.10/dist-packages (from matplotlib->ddpg) (4.42.1)\n",
            "Requirement already satisfied: kiwisolver>=1.0.1 in /usr/local/lib/python3.10/dist-packages (from matplotlib->ddpg) (1.4.4)\n",
            "Requirement already satisfied: packaging>=20.0 in /usr/local/lib/python3.10/dist-packages (from matplotlib->ddpg) (23.1)\n",
            "Requirement already satisfied: pillow>=6.2.0 in /usr/local/lib/python3.10/dist-packages (from matplotlib->ddpg) (9.4.0)\n",
            "Requirement already satisfied: pyparsing>=2.3.1 in /usr/local/lib/python3.10/dist-packages (from matplotlib->ddpg) (3.1.1)\n",
            "Requirement already satisfied: python-dateutil>=2.7 in /usr/local/lib/python3.10/dist-packages (from matplotlib->ddpg) (2.8.2)\n",
            "Requirement already satisfied: absl-py>=1.0.0 in /usr/local/lib/python3.10/dist-packages (from tensorflow->ddpg) (1.4.0)\n",
            "Requirement already satisfied: astunparse>=1.6.0 in /usr/local/lib/python3.10/dist-packages (from tensorflow->ddpg) (1.6.3)\n",
            "Requirement already satisfied: flatbuffers>=2.0 in /usr/local/lib/python3.10/dist-packages (from tensorflow->ddpg) (23.5.26)\n",
            "Requirement already satisfied: gast<=0.4.0,>=0.2.1 in /usr/local/lib/python3.10/dist-packages (from tensorflow->ddpg) (0.4.0)\n",
            "Requirement already satisfied: google-pasta>=0.1.1 in /usr/local/lib/python3.10/dist-packages (from tensorflow->ddpg) (0.2.0)\n",
            "Requirement already satisfied: grpcio<2.0,>=1.24.3 in /usr/local/lib/python3.10/dist-packages (from tensorflow->ddpg) (1.57.0)\n",
            "Requirement already satisfied: h5py>=2.9.0 in /usr/local/lib/python3.10/dist-packages (from tensorflow->ddpg) (3.9.0)\n",
            "Requirement already satisfied: jax>=0.3.15 in /usr/local/lib/python3.10/dist-packages (from tensorflow->ddpg) (0.4.14)\n",
            "Requirement already satisfied: keras<2.13,>=2.12.0 in /usr/local/lib/python3.10/dist-packages (from tensorflow->ddpg) (2.12.0)\n",
            "Requirement already satisfied: libclang>=13.0.0 in /usr/local/lib/python3.10/dist-packages (from tensorflow->ddpg) (16.0.6)\n",
            "Requirement already satisfied: opt-einsum>=2.3.2 in /usr/local/lib/python3.10/dist-packages (from tensorflow->ddpg) (3.3.0)\n",
            "Requirement already satisfied: protobuf!=4.21.0,!=4.21.1,!=4.21.2,!=4.21.3,!=4.21.4,!=4.21.5,<5.0.0dev,>=3.20.3 in /usr/local/lib/python3.10/dist-packages (from tensorflow->ddpg) (3.20.3)\n",
            "Requirement already satisfied: setuptools in /usr/local/lib/python3.10/dist-packages (from tensorflow->ddpg) (67.7.2)\n",
            "Requirement already satisfied: six>=1.12.0 in /usr/local/lib/python3.10/dist-packages (from tensorflow->ddpg) (1.16.0)\n",
            "Requirement already satisfied: tensorboard<2.13,>=2.12 in /usr/local/lib/python3.10/dist-packages (from tensorflow->ddpg) (2.12.3)\n",
            "Requirement already satisfied: tensorflow-estimator<2.13,>=2.12.0 in /usr/local/lib/python3.10/dist-packages (from tensorflow->ddpg) (2.12.0)\n",
            "Requirement already satisfied: termcolor>=1.1.0 in /usr/local/lib/python3.10/dist-packages (from tensorflow->ddpg) (2.3.0)\n",
            "Requirement already satisfied: typing-extensions>=3.6.6 in /usr/local/lib/python3.10/dist-packages (from tensorflow->ddpg) (4.7.1)\n",
            "Requirement already satisfied: wrapt<1.15,>=1.11.0 in /usr/local/lib/python3.10/dist-packages (from tensorflow->ddpg) (1.14.1)\n",
            "Requirement already satisfied: tensorflow-io-gcs-filesystem>=0.23.1 in /usr/local/lib/python3.10/dist-packages (from tensorflow->ddpg) (0.33.0)\n",
            "Requirement already satisfied: wheel<1.0,>=0.23.0 in /usr/local/lib/python3.10/dist-packages (from astunparse>=1.6.0->tensorflow->ddpg) (0.41.2)\n",
            "Requirement already satisfied: ml-dtypes>=0.2.0 in /usr/local/lib/python3.10/dist-packages (from jax>=0.3.15->tensorflow->ddpg) (0.2.0)\n",
            "Requirement already satisfied: scipy>=1.7 in /usr/local/lib/python3.10/dist-packages (from jax>=0.3.15->tensorflow->ddpg) (1.10.1)\n",
            "Requirement already satisfied: google-auth<3,>=1.6.3 in /usr/local/lib/python3.10/dist-packages (from tensorboard<2.13,>=2.12->tensorflow->ddpg) (2.17.3)\n",
            "Requirement already satisfied: google-auth-oauthlib<1.1,>=0.5 in /usr/local/lib/python3.10/dist-packages (from tensorboard<2.13,>=2.12->tensorflow->ddpg) (1.0.0)\n",
            "Requirement already satisfied: markdown>=2.6.8 in /usr/local/lib/python3.10/dist-packages (from tensorboard<2.13,>=2.12->tensorflow->ddpg) (3.4.4)\n",
            "Requirement already satisfied: requests<3,>=2.21.0 in /usr/local/lib/python3.10/dist-packages (from tensorboard<2.13,>=2.12->tensorflow->ddpg) (2.31.0)\n",
            "Requirement already satisfied: tensorboard-data-server<0.8.0,>=0.7.0 in /usr/local/lib/python3.10/dist-packages (from tensorboard<2.13,>=2.12->tensorflow->ddpg) (0.7.1)\n",
            "Requirement already satisfied: werkzeug>=1.0.1 in /usr/local/lib/python3.10/dist-packages (from tensorboard<2.13,>=2.12->tensorflow->ddpg) (2.3.7)\n",
            "Requirement already satisfied: cachetools<6.0,>=2.0.0 in /usr/local/lib/python3.10/dist-packages (from google-auth<3,>=1.6.3->tensorboard<2.13,>=2.12->tensorflow->ddpg) (5.3.1)\n",
            "Requirement already satisfied: pyasn1-modules>=0.2.1 in /usr/local/lib/python3.10/dist-packages (from google-auth<3,>=1.6.3->tensorboard<2.13,>=2.12->tensorflow->ddpg) (0.3.0)\n",
            "Requirement already satisfied: rsa<5,>=3.1.4 in /usr/local/lib/python3.10/dist-packages (from google-auth<3,>=1.6.3->tensorboard<2.13,>=2.12->tensorflow->ddpg) (4.9)\n",
            "Requirement already satisfied: requests-oauthlib>=0.7.0 in /usr/local/lib/python3.10/dist-packages (from google-auth-oauthlib<1.1,>=0.5->tensorboard<2.13,>=2.12->tensorflow->ddpg) (1.3.1)\n",
            "Requirement already satisfied: charset-normalizer<4,>=2 in /usr/local/lib/python3.10/dist-packages (from requests<3,>=2.21.0->tensorboard<2.13,>=2.12->tensorflow->ddpg) (3.2.0)\n",
            "Requirement already satisfied: idna<4,>=2.5 in /usr/local/lib/python3.10/dist-packages (from requests<3,>=2.21.0->tensorboard<2.13,>=2.12->tensorflow->ddpg) (3.4)\n",
            "Requirement already satisfied: urllib3<3,>=1.21.1 in /usr/local/lib/python3.10/dist-packages (from requests<3,>=2.21.0->tensorboard<2.13,>=2.12->tensorflow->ddpg) (2.0.4)\n",
            "Requirement already satisfied: certifi>=2017.4.17 in /usr/local/lib/python3.10/dist-packages (from requests<3,>=2.21.0->tensorboard<2.13,>=2.12->tensorflow->ddpg) (2023.7.22)\n",
            "Requirement already satisfied: MarkupSafe>=2.1.1 in /usr/local/lib/python3.10/dist-packages (from werkzeug>=1.0.1->tensorboard<2.13,>=2.12->tensorflow->ddpg) (2.1.3)\n",
            "Requirement already satisfied: pyasn1<0.6.0,>=0.4.6 in /usr/local/lib/python3.10/dist-packages (from pyasn1-modules>=0.2.1->google-auth<3,>=1.6.3->tensorboard<2.13,>=2.12->tensorflow->ddpg) (0.5.0)\n",
            "Requirement already satisfied: oauthlib>=3.0.0 in /usr/local/lib/python3.10/dist-packages (from requests-oauthlib>=0.7.0->google-auth-oauthlib<1.1,>=0.5->tensorboard<2.13,>=2.12->tensorflow->ddpg) (3.2.2)\n",
            "Installing collected packages: ddpg\n",
            "Successfully installed ddpg-0.2.0\n"
          ]
        }
      ]
    },
    {
      "cell_type": "code",
      "source": [
        "import gym\n",
        "\n",
        "# Register gym environment. By specifying kwargs,\n",
        "# you are able to choose which patient or patients to simulate.\n",
        "# patient_name must be 'adolescent#001' to 'adolescent#010',\n",
        "# or 'adult#001' to 'adult#010', or 'child#001' to 'child#010'\n",
        "# It can also be a list of patient names\n",
        "# You can also specify a custom scenario or a list of custom scenarios\n",
        "# If you chose a list of patient names or a list of custom scenarios,\n",
        "# every time the environment is reset, a random patient and scenario will be\n",
        "# chosen from the list\n",
        "\n",
        "from gym.envs.registration import register\n",
        "from simglucose.simulation.scenario import CustomScenario\n",
        "from datetime import datetime\n",
        "\n",
        "start_time = datetime(2018, 1, 1, 0, 0, 0)\n",
        "meal_scenario = CustomScenario(start_time=start_time, scenario=[(1,20)])\n",
        "\n",
        "\n",
        "register(\n",
        "    id='simglucose-adolescent2-v0',\n",
        "    entry_point='simglucose.envs:T1DSimEnv',\n",
        "    kwargs={'patient_name': 'adolescent#002',\n",
        "            'custom_scenario': meal_scenario}\n",
        ")\n",
        "\n",
        "env = gym.make('simglucose-adolescent2-v0')\n",
        "\n",
        "observation = env.reset()\n",
        "for t in range(100):\n",
        "    env.render(mode='human')\n",
        "    print(observation)\n",
        "    # Action in the gym environment is a scalar\n",
        "    # representing the basal insulin, which differs from\n",
        "    # the regular controller action outside the gym\n",
        "    # environment (a tuple (basal, bolus)).\n",
        "    # In the perfect situation, the agent should be able\n",
        "    # to control the glucose only through basal instead\n",
        "    # of asking patient to take bolus\n",
        "    action = env.action_space.sample()\n",
        "    observation, reward, done, info = env.step(action)\n",
        "    if done:\n",
        "        print(\"Episode finished after {} timesteps\".format(t + 1))\n",
        "        break"
      ],
      "metadata": {
        "colab": {
          "base_uri": "https://localhost:8080/",
          "height": 949
        },
        "id": "GDuesSpW_XqZ",
        "outputId": "345e8d9c-a5c5-445a-c171-e4ad4d579cf9"
      },
      "execution_count": null,
      "outputs": [
        {
          "output_type": "stream",
          "name": "stderr",
          "text": [
            "/usr/local/lib/python3.10/dist-packages/gym/envs/registration.py:17: PkgResourcesDeprecationWarning: Parameters to load are deprecated.  Call .resolve and .require separately.\n",
            "  result = entry_point.load(False)\n",
            "/usr/local/lib/python3.10/dist-packages/simglucose/simulation/env.py:174: FutureWarning: The default dtype for empty Series will be 'object' instead of 'float64' in a future version. Specify a dtype explicitly to silence this warning.\n",
            "  df['CHO'] = pd.Series(self.CHO_hist)\n",
            "/usr/local/lib/python3.10/dist-packages/simglucose/simulation/env.py:175: FutureWarning: The default dtype for empty Series will be 'object' instead of 'float64' in a future version. Specify a dtype explicitly to silence this warning.\n",
            "  df['insulin'] = pd.Series(self.insulin_hist)\n"
          ]
        },
        {
          "output_type": "stream",
          "name": "stdout",
          "text": [
            "Observation(CGM=146.45165833937796)\n",
            "Observation(CGM=146.31206436226896)\n",
            "Observation(CGM=146.54978894699872)\n",
            "Observation(CGM=148.48762519593902)\n",
            "Observation(CGM=151.3102896476679)\n",
            "Observation(CGM=154.170537012621)\n",
            "Observation(CGM=156.1946171596004)\n",
            "Observation(CGM=156.57074800426778)\n",
            "Observation(CGM=154.63138806591823)\n",
            "Observation(CGM=149.92855888049382)\n",
            "Observation(CGM=142.4828728663949)\n",
            "Observation(CGM=132.8924958454118)\n",
            "Observation(CGM=121.87787181633293)\n",
            "Observation(CGM=110.21355377493289)\n",
            "Observation(CGM=98.7635645098099)\n",
            "Observation(CGM=88.0743487087332)\n",
            "Observation(CGM=78.08821734192387)\n",
            "Observation(CGM=68.55405349671295)\n",
            "Episode finished after 18 timesteps\n"
          ]
        },
        {
          "output_type": "display_data",
          "data": {
            "text/plain": [
              "<Figure size 640x480 with 4 Axes>"
            ],
            "image/png": "[encoded data removed]"
          },
          "metadata": {}
        }
      ]
    },
    {
      "cell_type": "code",
      "source": [
        "import pandas as pd\n",
        "import numpy as np\n",
        "from sklearn.model_selection import train_test_split\n",
        "from sklearn.preprocessing import StandardScaler\n",
        "from sklearn.ensemble import RandomForestRegressor\n",
        "from sklearn.metrics import mean_squared_error\n"
      ],
      "metadata": {
        "id": "eGey-2c-DWi9"
      },
      "execution_count": null,
      "outputs": []
    },
    {
      "cell_type": "code",
      "source": [
        "cgm_data = pd.read_csv('/content/results/CGM DEMO/adolescent#001.csv')"
      ],
      "metadata": {
        "id": "DQyMge0xFUHt"
      },
      "execution_count": null,
      "outputs": []
    },
    {
      "cell_type": "code",
      "source": [
        "# Handle missing values\n",
        "cgm_data['CGM'].fillna(method='ffill', inplace=True)  # Forward fill missing values\n",
        "\n",
        "# Noise reduction (you can use different filtering techniques)\n",
        "def apply_smoothing(signal, window_size=3):\n",
        "    return signal.rolling(window=window_size, min_periods=1).mean()\n",
        "\n",
        "cgm_data['CGM_smoothed'] = apply_smoothing(cgm_data['CGM'])\n",
        "\n",
        "# Data alignment (if needed)\n",
        "# Align data based on a common time index or timestamp\n",
        "\n",
        "# Print the preprocessed data\n",
        "print(cgm_data.head())\n"
      ],
      "metadata": {
        "colab": {
          "base_uri": "https://localhost:8080/"
        },
        "id": "gRKeFvvFGE3C",
        "outputId": "768d7b28-d3a5-450c-bdca-ee3bbb330c6d"
      },
      "execution_count": null,
      "outputs": [
        {
          "output_type": "stream",
          "name": "stdout",
          "text": [
            "                  Time      BG         CGM  CHO   insulin  LBGI      HBGI  \\\n",
            "0  2023-08-27 01:00:00  149.02  147.367474  0.0  0.013933   0.0  2.755276   \n",
            "1  2023-08-27 01:01:00  149.02  148.391441  0.0  0.013933   0.0  2.755276   \n",
            "2  2023-08-27 01:02:00  149.02  148.829550  0.0  0.013933   0.0  2.755276   \n",
            "3  2023-08-27 01:03:00  149.02  149.219827  0.0  0.013933   0.0  2.755276   \n",
            "4  2023-08-27 01:04:00  149.02  149.563338  0.0  0.013933   0.0  2.755276   \n",
            "\n",
            "       Risk  CGM_smoothed  \n",
            "0  2.755276    147.367474  \n",
            "1  2.755276    147.879458  \n",
            "2  2.755276    148.196155  \n",
            "3  2.755276    148.813606  \n",
            "4  2.755276    149.204238  \n"
          ]
        }
      ]
    },
    {
      "cell_type": "code",
      "source": [
        "X = cgm_data[['CGM', 'CHO', 'insulin']]\n",
        "y = cgm_data['BG']"
      ],
      "metadata": {
        "id": "h9WGXMUBGVxK"
      },
      "execution_count": null,
      "outputs": []
    },
    {
      "cell_type": "code",
      "source": [
        "# Split data into training and testing sets\n",
        "X_train, X_test, y_train, y_test = train_test_split(X, y, test_size=0.2, random_state=42)\n"
      ],
      "metadata": {
        "id": "xq_z1NHTGc-O"
      },
      "execution_count": null,
      "outputs": []
    },
    {
      "cell_type": "code",
      "source": [
        "# Normalize the data\n",
        "scaler = StandardScaler()\n",
        "X_train_scaled = scaler.fit_transform(X_train)\n",
        "X_test_scaled = scaler.transform(X_test)"
      ],
      "metadata": {
        "id": "uRICfTKQGdLT"
      },
      "execution_count": null,
      "outputs": []
    },
    {
      "cell_type": "code",
      "source": [
        "import numpy as np\n",
        "\n",
        "# Print shape and first few rows of X_train_scaled\n",
        "print(\"X_train_scaled shape:\", X_train_scaled.shape)\n",
        "print(\"First few rows of X_train_scaled:\")\n",
        "print(X_train_scaled[:5, :])\n",
        "\n",
        "# Check for NaN values in X_train_scaled before imputation\n",
        "nan_indices_before = np.where(np.isnan(X_train_scaled))\n",
        "print(\"Number of NaN values in X_train_scaled before imputation:\", len(nan_indices_before[0]))\n"
      ],
      "metadata": {
        "colab": {
          "base_uri": "https://localhost:8080/"
        },
        "id": "-S-kj8QPH-7H",
        "outputId": "8db931b2-2e44-44af-b458-0e5fd95d69db"
      },
      "execution_count": null,
      "outputs": [
        {
          "output_type": "stream",
          "name": "stdout",
          "text": [
            "X_train_scaled shape: (48, 3)\n",
            "First few rows of X_train_scaled:\n",
            "[[ 6.96731016e-02  0.00000000e+00 -1.73472348e-18]\n",
            " [ 1.03939746e+00  0.00000000e+00 -1.73472348e-18]\n",
            " [ 3.01072296e-01  0.00000000e+00 -1.73472348e-18]\n",
            " [ 3.53214861e-01  0.00000000e+00 -1.73472348e-18]\n",
            " [ 2.69195150e-01  0.00000000e+00 -1.73472348e-18]]\n",
            "Number of NaN values in X_train_scaled before imputation: 2\n"
          ]
        }
      ]
    },
    {
      "cell_type": "code",
      "source": [
        "import numpy as np\n",
        "from sklearn.impute import SimpleImputer"
      ],
      "metadata": {
        "id": "J--JG-GJHTYs"
      },
      "execution_count": null,
      "outputs": []
    },
    {
      "cell_type": "code",
      "source": [
        "# Handle missing values in the features (X_train_scaled)\n",
        "imputer = SimpleImputer(strategy='mean')\n",
        "X_train_imputed = imputer.fit_transform(X_train_scaled)\n"
      ],
      "metadata": {
        "id": "ZVVgq9vgHLG8"
      },
      "execution_count": null,
      "outputs": []
    },
    {
      "cell_type": "code",
      "source": [
        "# Check for NaN values in X_train_scaled after imputation\n",
        "nan_indices_after = np.where(np.isnan(X_train_scaled))\n",
        "print(\"Number of NaN values in X_train_scaled after imputation:\", len(nan_indices_after[0]))\n",
        "\n",
        "\n"
      ],
      "metadata": {
        "colab": {
          "base_uri": "https://localhost:8080/"
        },
        "id": "ozaADdi1IfoO",
        "outputId": "34657119-6faf-4287-f28e-ccbdb4397524"
      },
      "execution_count": null,
      "outputs": [
        {
          "output_type": "stream",
          "name": "stdout",
          "text": [
            "Number of NaN values in X_train_scaled after imputation: 2\n"
          ]
        }
      ]
    },
    {
      "cell_type": "code",
      "source": [
        "# Drop rows with NaN values\n",
        "X_train_scaled_cleaned = X_train_scaled[~np.isnan(X_train_scaled).any(axis=1)]\n",
        "y_train_cleaned = y_train[~np.isnan(X_train_scaled).any(axis=1)]\n",
        "\n",
        "# Train the model with cleaned data\n",
        "model = RandomForestRegressor(n_estimators=100, random_state=0)\n",
        "model.fit(X_train_scaled_cleaned, y_train_cleaned)\n"
      ],
      "metadata": {
        "colab": {
          "base_uri": "https://localhost:8080/",
          "height": 75
        },
        "id": "jUMwRVlEIgqV",
        "outputId": "26c72a2f-ca55-4751-f6f6-baf037ebda43"
      },
      "execution_count": null,
      "outputs": [
        {
          "output_type": "execute_result",
          "data": {
            "text/plain": [
              "RandomForestRegressor(random_state=0)"
            ],
            "text/html": [
              "<style>#sk-container-id-3 {color: black;background-color: white;}#sk-container-id-3 pre{padding: 0;}#sk-container-id-3 div.sk-toggleable {background-color: white;}#sk-container-id-3 label.sk-toggleable__label {cursor: pointer;display: block;width: 100%;margin-bottom: 0;padding: 0.3em;box-sizing: border-box;text-align: center;}#sk-container-id-3 label.sk-toggleable__label-arrow:before {content: \"▸\";float: left;margin-right: 0.25em;color: #696969;}#sk-container-id-3 label.sk-toggleable__label-arrow:hover:before {color: black;}#sk-container-id-3 div.sk-estimator:hover label.sk-toggleable__label-arrow:before {color: black;}#sk-container-id-3 div.sk-toggleable__content {max-height: 0;max-width: 0;overflow: hidden;text-align: left;background-color: #f0f8ff;}#sk-container-id-3 div.sk-toggleable__content pre {margin: 0.2em;color: black;border-radius: 0.25em;background-color: #f0f8ff;}#sk-container-id-3 input.sk-toggleable__control:checked~div.sk-toggleable__content {max-height: 200px;max-width: 100%;overflow: auto;}#sk-container-id-3 input.sk-toggleable__control:checked~label.sk-toggleable__label-arrow:before {content: \"▾\";}#sk-container-id-3 div.sk-estimator input.sk-toggleable__control:checked~label.sk-toggleable__label {background-color: #d4ebff;}#sk-container-id-3 div.sk-label input.sk-toggleable__control:checked~label.sk-toggleable__label {background-color: #d4ebff;}#sk-container-id-3 input.sk-hidden--visually {border: 0;clip: rect(1px 1px 1px 1px);clip: rect(1px, 1px, 1px, 1px);height: 1px;margin: -1px;overflow: hidden;padding: 0;position: absolute;width: 1px;}#sk-container-id-3 div.sk-estimator {font-family: monospace;background-color: #f0f8ff;border: 1px dotted black;border-radius: 0.25em;box-sizing: border-box;margin-bottom: 0.5em;}#sk-container-id-3 div.sk-estimator:hover {background-color: #d4ebff;}#sk-container-id-3 div.sk-parallel-item::after {content: \"\";width: 100%;border-bottom: 1px solid gray;flex-grow: 1;}#sk-container-id-3 div.sk-label:hover label.sk-toggleable__label {background-color: #d4ebff;}#sk-container-id-3 div.sk-serial::before {content: \"\";position: absolute;border-left: 1px solid gray;box-sizing: border-box;top: 0;bottom: 0;left: 50%;z-index: 0;}#sk-container-id-3 div.sk-serial {display: flex;flex-direction: column;align-items: center;background-color: white;padding-right: 0.2em;padding-left: 0.2em;position: relative;}#sk-container-id-3 div.sk-item {position: relative;z-index: 1;}#sk-container-id-3 div.sk-parallel {display: flex;align-items: stretch;justify-content: center;background-color: white;position: relative;}#sk-container-id-3 div.sk-item::before, #sk-container-id-3 div.sk-parallel-item::before {content: \"\";position: absolute;border-left: 1px solid gray;box-sizing: border-box;top: 0;bottom: 0;left: 50%;z-index: -1;}#sk-container-id-3 div.sk-parallel-item {display: flex;flex-direction: column;z-index: 1;position: relative;background-color: white;}#sk-container-id-3 div.sk-parallel-item:first-child::after {align-self: flex-end;width: 50%;}#sk-container-id-3 div.sk-parallel-item:last-child::after {align-self: flex-start;width: 50%;}#sk-container-id-3 div.sk-parallel-item:only-child::after {width: 0;}#sk-container-id-3 div.sk-dashed-wrapped {border: 1px dashed gray;margin: 0 0.4em 0.5em 0.4em;box-sizing: border-box;padding-bottom: 0.4em;background-color: white;}#sk-container-id-3 div.sk-label label {font-family: monospace;font-weight: bold;display: inline-block;line-height: 1.2em;}#sk-container-id-3 div.sk-label-container {text-align: center;}#sk-container-id-3 div.sk-container {/* jupyter's `normalize.less` sets `[hidden] { display: none; }` but bootstrap.min.css set `[hidden] { display: none !important; }` so we also need the `!important` here to be able to override the default hidden behavior on the sphinx rendered scikit-learn.org. See: https://github.com/scikit-learn/scikit-learn/issues/21755 */display: inline-block !important;position: relative;}#sk-container-id-3 div.sk-text-repr-fallback {display: none;}</style><div id=\"sk-container-id-3\" class=\"sk-top-container\"><div class=\"sk-text-repr-fallback\"><pre>RandomForestRegressor(random_state=0)</pre><b>In a Jupyter environment, please rerun this cell to show the HTML representation or trust the notebook. <br />On GitHub, the HTML representation is unable to render, please try loading this page with nbviewer.org.</b></div><div class=\"sk-container\" hidden><div class=\"sk-item\"><div class=\"sk-estimator sk-toggleable\"><input class=\"sk-toggleable__control sk-hidden--visually\" id=\"sk-estimator-id-3\" type=\"checkbox\" checked><label for=\"sk-estimator-id-3\" class=\"sk-toggleable__label sk-toggleable__label-arrow\">RandomForestRegressor</label><div class=\"sk-toggleable__content\"><pre>RandomForestRegressor(random_state=0)</pre></div></div></div></div></div>"
            ]
          },
          "metadata": {},
          "execution_count": 156
        }
      ]
    },
    {
      "cell_type": "code",
      "source": [
        "# Evaluate the model\n",
        "predictions = model.predict(X_test_scaled)\n",
        "mse = mean_squared_error(y_test, predictions)\n",
        "print(f'Mean Squared Error: {mse}')\n"
      ],
      "metadata": {
        "colab": {
          "base_uri": "https://localhost:8080/"
        },
        "id": "-LZrBOO2H3Dd",
        "outputId": "6e059f5d-13fb-4e14-bf4a-00ff22e7bf2d"
      },
      "execution_count": null,
      "outputs": [
        {
          "output_type": "stream",
          "name": "stdout",
          "text": [
            "Mean Squared Error: 1.3189989735792102e-10\n"
          ]
        }
      ]
    },
    {
      "cell_type": "code",
      "source": [
        "from sklearn.impute import SimpleImputer\n",
        "from sklearn.model_selection import cross_val_score\n",
        "\n",
        "# Create an imputer to fill in missing values with the mean\n",
        "imputer = SimpleImputer(strategy='mean')\n",
        "X_train_imputed = imputer.fit_transform(X_train_scaled)\n",
        "\n",
        "# Perform cross-validation with 5 folds\n",
        "cv_scores = cross_val_score(model, X_train_imputed, y_train, cv=5, scoring='neg_mean_squared_error')\n",
        "cv_rmse_scores = [(-score)**0.5 for score in cv_scores]  # Convert negative MSE scores to RMSE\n",
        "\n",
        "# Calculate mean and standard deviation of RMSE scores\n",
        "mean_cv_rmse = np.mean(cv_rmse_scores)\n",
        "std_cv_rmse = np.std(cv_rmse_scores)\n",
        "\n",
        "print(f'Cross-Validation RMSE Scores: {cv_rmse_scores}')\n",
        "print(f'Mean Cross-Validation RMSE: {mean_cv_rmse}')\n",
        "print(f'Standard Deviation of Cross-Validation RMSE: {std_cv_rmse}')\n"
      ],
      "metadata": {
        "colab": {
          "base_uri": "https://localhost:8080/"
        },
        "id": "sMsBZoG3MAWg",
        "outputId": "d3516431-d036-47d6-f4c6-f3a6bcc9a51f"
      },
      "execution_count": null,
      "outputs": [
        {
          "output_type": "stream",
          "name": "stdout",
          "text": [
            "Cross-Validation RMSE Scores: [8.855058341982022e-06, 8.649732859442709e-06, 6.931951384199269e-06, 1.4778263230375214e-05, 1.3971438726689427e-05]\n",
            "Mean Cross-Validation RMSE: 1.0637288908537728e-05\n",
            "Standard Deviation of Cross-Validation RMSE: 3.1343412179891576e-06\n"
          ]
        }
      ]
    },
    {
      "cell_type": "code",
      "source": [
        "from sklearn.metrics import mean_absolute_error, mean_squared_error\n",
        "\n",
        "# Calculate Mean Absolute Error (MAE)\n",
        "mae = mean_absolute_error(y_test, predictions)\n",
        "print(f'Mean Absolute Error: {mae}')\n",
        "\n",
        "# Calculate Root Mean Squared Error (RMSE)\n",
        "rmse = mean_squared_error(y_test, predictions, squared=False)\n",
        "print(f'Root Mean Squared Error: {rmse}')\n"
      ],
      "metadata": {
        "colab": {
          "base_uri": "https://localhost:8080/"
        },
        "id": "EfupWLhBJ795",
        "outputId": "1724bcd1-f584-448b-cc6c-892a6796845f"
      },
      "execution_count": null,
      "outputs": [
        {
          "output_type": "stream",
          "name": "stdout",
          "text": [
            "Mean Absolute Error: 8.173611630669397e-06\n",
            "Root Mean Squared Error: 1.1484768058516507e-05\n"
          ]
        }
      ]
    },
    {
      "cell_type": "code",
      "source": [
        "from sklearn.neural_network import MLPRegressor\n",
        "\n",
        "# Create an Artificial Neural Network (ANN) model\n",
        "ann_model = MLPRegressor(hidden_layer_sizes=(64, 32), activation='relu', solver='adam', random_state=0)\n",
        "\n",
        "# Train the ANN model\n",
        "ann_model.fit(X_train_imputed, y_train)\n",
        "\n",
        "# Make predictions using the trained ANN model\n",
        "ann_predictions = ann_model.predict(X_test_scaled)\n",
        "\n",
        "# Calculate Mean Absolute Error (MAE) for ANN\n",
        "ann_mae = mean_absolute_error(y_test, ann_predictions)\n",
        "print(f'Mean Absolute Error (ANN): {ann_mae}')\n",
        "\n",
        "# Calculate Root Mean Squared Error (RMSE) for ANN\n",
        "ann_rmse = mean_squared_error(y_test, ann_predictions, squared=False)\n",
        "print(f'Root Mean Squared Error (ANN): {ann_rmse}')\n",
        "\n",
        "# Calculate R-squared for ANN\n",
        "ann_r_squared = ann_model.score(X_test_scaled, y_test)\n",
        "print(f'R-squared (ANN): {ann_r_squared}')\n"
      ],
      "metadata": {
        "colab": {
          "base_uri": "https://localhost:8080/"
        },
        "id": "pTTLGwnTRQ9r",
        "outputId": "ad439624-9b81-481d-f727-7094ec6aca0e"
      },
      "execution_count": null,
      "outputs": [
        {
          "output_type": "stream",
          "name": "stdout",
          "text": [
            "Mean Absolute Error (ANN): 118.63171939235791\n",
            "Root Mean Squared Error (ANN): 118.89792345575113\n",
            "R-squared (ANN): -31200841114525.688\n"
          ]
        },
        {
          "output_type": "stream",
          "name": "stderr",
          "text": [
            "/usr/local/lib/python3.10/dist-packages/sklearn/neural_network/_multilayer_perceptron.py:686: ConvergenceWarning: Stochastic Optimizer: Maximum iterations (200) reached and the optimization hasn't converged yet.\n",
            "  warnings.warn(\n"
          ]
        }
      ]
    },
    {
      "cell_type": "code",
      "source": [
        "from keras.models import Sequential\n",
        "from keras.layers import Conv1D, MaxPooling1D, Flatten, Dense\n",
        "\n",
        "# Reshape the input data for CNN\n",
        "X_train_cnn = X_train_scaled_cleaned.reshape(X_train_scaled_cleaned.shape[0], X_train_scaled_cleaned.shape[1], 1)\n",
        "X_test_cnn = X_test_scaled.reshape(X_test_scaled.shape[0], X_test_scaled.shape[1], 1)\n",
        "\n",
        "# Create a Convolutional Neural Network (CNN) model\n",
        "cnn_model = Sequential()\n",
        "cnn_model.add(Conv1D(filters=32, kernel_size=3, activation='relu', input_shape=(X_train_cnn.shape[1], X_train_cnn.shape[2])))\n",
        "# Remove or adjust the pool_size as needed\n",
        "cnn_model.add(MaxPooling1D(pool_size=1))  # You can also remove this line if needed\n",
        "cnn_model.add(Flatten())\n",
        "cnn_model.add(Dense(64, activation='relu'))\n",
        "cnn_model.add(Dense(1))\n",
        "# Compile the model\n",
        "cnn_model.compile(optimizer='adam', loss='mean_squared_error')\n",
        "\n",
        "# Train the CNN model\n",
        "cnn_model.fit(X_train_cnn, y_train_cleaned, epochs=10, batch_size=32, verbose=1)\n",
        "\n",
        "# Make predictions using the trained CNN model\n",
        "cnn_predictions = cnn_model.predict(X_test_cnn)\n",
        "\n",
        "# Calculate Mean Absolute Error (MAE) for CNN\n",
        "cnn_mae = mean_absolute_error(y_test, cnn_predictions)\n",
        "print(f'Mean Absolute Error (CNN): {cnn_mae}')\n",
        "\n",
        "# Calculate Root Mean Squared Error (RMSE) for CNN\n",
        "cnn_rmse = mean_squared_error(y_test, cnn_predictions, squared=False)\n",
        "print(f'Root Mean Squared Error (CNN): {cnn_rmse}')\n",
        "\n",
        "\n"
      ],
      "metadata": {
        "colab": {
          "base_uri": "https://localhost:8080/"
        },
        "id": "ubBL74bSRkJX",
        "outputId": "9ee1f8b8-edc5-4ec9-b9d8-1efe8e4ec6ff"
      },
      "execution_count": null,
      "outputs": [
        {
          "output_type": "stream",
          "name": "stdout",
          "text": [
            "Epoch 1/10\n",
            "2/2 [==============================] - 1s 13ms/step - loss: 22184.4043\n",
            "Epoch 2/10\n",
            "2/2 [==============================] - 0s 19ms/step - loss: 22173.9277\n",
            "Epoch 3/10\n",
            "2/2 [==============================] - 0s 12ms/step - loss: 22163.0977\n",
            "Epoch 4/10\n",
            "2/2 [==============================] - 0s 11ms/step - loss: 22152.4863\n",
            "Epoch 5/10\n",
            "2/2 [==============================] - 0s 12ms/step - loss: 22141.6680\n",
            "Epoch 6/10\n",
            "2/2 [==============================] - 0s 12ms/step - loss: 22130.4492\n",
            "Epoch 7/10\n",
            "2/2 [==============================] - 0s 10ms/step - loss: 22118.5273\n",
            "Epoch 8/10\n",
            "2/2 [==============================] - 0s 10ms/step - loss: 22107.1328\n",
            "Epoch 9/10\n",
            "2/2 [==============================] - 0s 11ms/step - loss: 22094.6094\n",
            "Epoch 10/10\n",
            "2/2 [==============================] - 0s 10ms/step - loss: 22081.8906\n",
            "1/1 [==============================] - 0s 117ms/step\n",
            "Mean Absolute Error (CNN): 148.47407816613742\n",
            "Root Mean Squared Error (CNN): 148.47455591690488\n"
          ]
        }
      ]
    },
    {
      "cell_type": "code",
      "source": [
        "#for population\n",
        "from simglucose.simulation.env import T1DSimEnv\n",
        "from simglucose.controller.basal_bolus_ctrller import BBController\n",
        "from simglucose.sensor.cgm import CGMSensor\n",
        "from simglucose.actuator.pump import InsulinPump\n",
        "from simglucose.patient.t1dpatient import T1DPatient\n",
        "from simglucose.simulation.scenario_gen import RandomScenario\n",
        "from simglucose.simulation.scenario import CustomScenario\n",
        "from simglucose.simulation.sim_engine import SimObj, sim, batch_sim\n",
        "from datetime import timedelta\n",
        "from datetime import time as dt_time\n",
        "from datetime import datetime\n",
        "\n",
        "import matplotlib.pyplot as plt\n",
        "\n",
        "import os\n",
        "import numpy as np\n",
        "import pandas as pd"
      ],
      "metadata": {
        "id": "D2xEHRaZkgub"
      },
      "execution_count": null,
      "outputs": []
    },
    {
      "cell_type": "code",
      "source": [
        "# specify start_time as the beginning of today\n",
        "now = datetime.now()\n",
        "t0 = datetime.combine(now.date(), dt_time(6, 0, 0, 0))\n",
        "start_time=t0\n",
        "max_days=15\n",
        "#start_time = datetime.combine(now.date(), datetime.min.time())\n",
        "\n",
        "# --------- Create Random Scenario --------------\n",
        "# Specify results saving path\n",
        "path = './results'\n",
        "\n",
        "df=pd.read_csv('/content/drive/MyDrive/Colab Notebooks/vpatient_params.csv')\n",
        "Npat=len(df)"
      ],
      "metadata": {
        "id": "vqpaSOeHkqSl"
      },
      "execution_count": null,
      "outputs": []
    },
    {
      "cell_type": "code",
      "source": [
        "from simglucose.simulation.scenario_gen import RandomScenario\n",
        "# Define the path where you want to save the results\n",
        "output_dir = \"/content/drive/MyDrive/Colab Notebooks/CGM FINAL\"\n",
        "\n",
        "# Check if the output directory exists, if not, create it\n",
        "if not os.path.exists(output_dir):\n",
        "    os.makedirs(output_dir)\n",
        "\n",
        "N_SAMPLE=288\n",
        "\n",
        "new_index=0\n",
        "\n",
        "Vmx=[];\n",
        "CGM=np.empty((0,288));\n",
        "CHO=np.empty((0,288));\n",
        "insulin=np.empty((0,288));\n",
        "filename=[];\n",
        "\n",
        "for pat in range(Npat):\n",
        "    patname=df.iloc[pat]['Name']\n",
        "\n",
        "    for rep in range(10):\n",
        "        ##################################################################################################################\n",
        "        # 1. Setup patient loading its parameters from file\n",
        "        ##################################################################################################################\n",
        "        # Create a patient\n",
        "        patient = T1DPatient.withName(patname)\n",
        "\n",
        "        ext=1\n",
        "        count=0\n",
        "        while(ext>0 & count<10):\n",
        "            #add random variation to the Vmx value to simulate more patients\n",
        "            patient._params.Vmx=patient._params.Vmx+0.003*np.random.randn()\n",
        "            patient_name='{:s}_{:02d}'.format(patname,rep)\n",
        "\n",
        "            print('Simulating: {:s}, repetition: {:d}'.format(patient_name,count))\n",
        "\n",
        "\n",
        "            ##################################################################################################################\n",
        "            # 2. Setup CGM sensor and pump models\n",
        "            ##################################################################################################################\n",
        "            # Creat sensor and insulin pump\n",
        "            sensor = CGMSensor.withName('Dexcom', seed=1)\n",
        "            pump = InsulinPump.withName('Insulet')\n",
        "\n",
        "            ##################################################################################################################\n",
        "            # 3. Setup custom meal pattern\n",
        "            # custom scenario is a list of tuples (time, meal_size)\n",
        "            ##################################################################################################################\n",
        "            #sim_time = timedelta(days=max_days)\n",
        "            #now = datetime.now()\n",
        "            #scenario=RandomScenario(start_time=t0, seed=42)\n",
        "\n",
        "            ##################################################################################################################\n",
        "            # 3. Setup custom meal pattern\n",
        "            # custom scenario is a list of tuples (time, meal_size)\n",
        "            ##################################################################################################################\n",
        "            prob = [0.95, 0.3, 0.95, 0.3, 0.95, 0.3]\n",
        "            base_t=[7, 10, 12.5, 16, 20, 22]\n",
        "            base_m = [10, 3, 20, 3, 20, 3]\n",
        "            sigma_m = [2, 1, 3, 1, 3, 1]\n",
        "            scen=[]\n",
        "\n",
        "            for d in range(max_days):\n",
        "                for i in range(6):\n",
        "                    pmeal=np.random.uniform()\n",
        "                    if(pmeal<prob[i]):\n",
        "                        tm=(base_t[i]+(np.random.uniform()-0.5)*2)*60+d*24*60\n",
        "                        vm=max(0,base_m[i]+sigma_m[i]*np.random.randn())\n",
        "                        scen.append((tm,vm))\n",
        "\n",
        "            scenario = CustomScenario(start_time=start_time, scenario=scen)\n",
        "\n",
        "            ##################################################################################################################\n",
        "            # 4. Simulate the CGM measures\n",
        "            ##################################################################################################################\n",
        "\n",
        "            env = T1DSimEnv(patient, sensor, pump, scenario)\n",
        "            env.patient.name=patient_name\n",
        "\n",
        "            # Create a controller\n",
        "            controller = BBController()\n",
        "\n",
        "            # Put them together to create a simulation object\n",
        "            s2 = SimObj(env, controller, timedelta(days=max_days), animate=False, path=path)\n",
        "            #print(env.patient.name)\n",
        "            s2.simulate()\n",
        "            results2=s2.env.show_history()\n",
        "\n",
        "            cgm=results2.CGM\n",
        "            ext=np.sum(cgm<=40)\n",
        "\n",
        "            if(ext==0):\n",
        "                for n_days in range(10):\n",
        "\n",
        "                    patient_name='{:s}_{:02d}_day{:02d}'.format(patname,rep,n_days)\n",
        "\n",
        "                    start_ind=(n_days+3)*N_SAMPLE\n",
        "                    stop_ind=(n_days+3+1)*N_SAMPLE\n",
        "\n",
        "                    Vmx.append(patient._params.Vmx)\n",
        "                    filename.append(patient_name)\n",
        "                    # Inside the loop where you save the CSV files\n",
        "                    savename = os.path.join(output_dir, str(patient_name) + '.csv')\n",
        "                    day_results.to_csv(savename)\n",
        "                    CGM=np.vstack((CGM,day_results.CGM))\n",
        "                    CHO=np.vstack((CHO,day_results.CGM))\n",
        "                    insulin=np.vstack((insulin,day_results.insulin-day_results.insulin[0]))\n",
        "\n",
        "                    #plt.plot(results2.CGM)\n",
        "\n",
        "            count=count+1\n",
        "\n",
        "            if count>10:\n",
        "                break\n"
      ],
      "metadata": {
        "colab": {
          "base_uri": "https://localhost:8080/",
          "height": 1000
        },
        "id": "gYUhAVsXks3S",
        "outputId": "011c1379-0f67-40fb-8a04-498b2e061ed7"
      },
      "execution_count": null,
      "outputs": [
        {
          "output_type": "stream",
          "name": "stdout",
          "text": [
            "Simulating: adolescent#001_00, repetition: 0\n",
            "Simulating: adolescent#001_01, repetition: 0\n",
            "Simulating: adolescent#001_02, repetition: 0\n",
            "Simulating: adolescent#001_03, repetition: 0\n",
            "Simulating: adolescent#001_04, repetition: 0\n",
            "Simulating: adolescent#001_05, repetition: 0\n",
            "Simulating: adolescent#001_06, repetition: 0\n",
            "Simulating: adolescent#001_07, repetition: 0\n",
            "Simulating: adolescent#001_08, repetition: 0\n",
            "Simulating: adolescent#001_09, repetition: 0\n",
            "Simulating: adolescent#002_00, repetition: 0\n",
            "Simulating: adolescent#002_01, repetition: 0\n",
            "Simulating: adolescent#002_02, repetition: 0\n",
            "Simulating: adolescent#002_03, repetition: 0\n",
            "Simulating: adolescent#002_04, repetition: 0\n",
            "Simulating: adolescent#002_05, repetition: 0\n",
            "Simulating: adolescent#002_06, repetition: 0\n",
            "Simulating: adolescent#002_07, repetition: 0\n",
            "Simulating: adolescent#002_08, repetition: 0\n",
            "Simulating: adolescent#002_09, repetition: 0\n",
            "Simulating: adolescent#003_00, repetition: 0\n",
            "Simulating: adolescent#003_01, repetition: 0\n",
            "Simulating: adolescent#003_02, repetition: 0\n",
            "Simulating: adolescent#003_03, repetition: 0\n",
            "Simulating: adolescent#003_04, repetition: 0\n",
            "Simulating: adolescent#003_05, repetition: 0\n",
            "Simulating: adolescent#003_06, repetition: 0\n",
            "Simulating: adolescent#003_07, repetition: 0\n",
            "Simulating: adolescent#003_08, repetition: 0\n",
            "Simulating: adolescent#003_09, repetition: 0\n",
            "Simulating: adolescent#004_00, repetition: 0\n",
            "Simulating: adolescent#004_01, repetition: 0\n",
            "Simulating: adolescent#004_02, repetition: 0\n",
            "Simulating: adolescent#004_03, repetition: 0\n",
            "Simulating: adolescent#004_04, repetition: 0\n",
            "Simulating: adolescent#004_05, repetition: 0\n",
            "Simulating: adolescent#004_06, repetition: 0\n",
            "Simulating: adolescent#004_07, repetition: 0\n",
            "Simulating: adolescent#004_08, repetition: 0\n",
            "Simulating: adolescent#004_09, repetition: 0\n",
            "Simulating: adolescent#005_00, repetition: 0\n",
            "Simulating: adolescent#005_01, repetition: 0\n",
            "Simulating: adolescent#005_02, repetition: 0\n",
            "Simulating: adolescent#005_03, repetition: 0\n",
            "Simulating: adolescent#005_04, repetition: 0\n",
            "Simulating: adolescent#005_05, repetition: 0\n",
            "Simulating: adolescent#005_06, repetition: 0\n",
            "Simulating: adolescent#005_07, repetition: 0\n",
            "Simulating: adolescent#005_08, repetition: 0\n",
            "Simulating: adolescent#005_09, repetition: 0\n",
            "Simulating: adolescent#006_00, repetition: 0\n",
            "Simulating: adolescent#006_01, repetition: 0\n",
            "Simulating: adolescent#006_02, repetition: 0\n",
            "Simulating: adolescent#006_03, repetition: 0\n",
            "Simulating: adolescent#006_04, repetition: 0\n",
            "Simulating: adolescent#006_05, repetition: 0\n",
            "Simulating: adolescent#006_06, repetition: 0\n",
            "Simulating: adolescent#006_07, repetition: 0\n",
            "Simulating: adolescent#006_08, repetition: 0\n",
            "Simulating: adolescent#006_09, repetition: 0\n",
            "Simulating: adolescent#007_00, repetition: 0\n",
            "Simulating: adolescent#007_01, repetition: 0\n",
            "Simulating: adolescent#007_02, repetition: 0\n",
            "Simulating: adolescent#007_03, repetition: 0\n",
            "Simulating: adolescent#007_04, repetition: 0\n",
            "Simulating: adolescent#007_05, repetition: 0\n",
            "Simulating: adolescent#007_06, repetition: 0\n",
            "Simulating: adolescent#007_07, repetition: 0\n",
            "Simulating: adolescent#007_08, repetition: 0\n",
            "Simulating: adolescent#007_09, repetition: 0\n",
            "Simulating: adolescent#008_00, repetition: 0\n",
            "Simulating: adolescent#008_01, repetition: 0\n",
            "Simulating: adolescent#008_02, repetition: 0\n",
            "Simulating: adolescent#008_03, repetition: 0\n",
            "Simulating: adolescent#008_04, repetition: 0\n",
            "Simulating: adolescent#008_05, repetition: 0\n",
            "Simulating: adolescent#008_06, repetition: 0\n",
            "Simulating: adolescent#008_07, repetition: 0\n",
            "Simulating: adolescent#008_08, repetition: 0\n",
            "Simulating: adolescent#008_09, repetition: 0\n",
            "Simulating: adolescent#009_00, repetition: 0\n",
            "Simulating: adolescent#009_01, repetition: 0\n",
            "Simulating: adolescent#009_02, repetition: 0\n",
            "Simulating: adolescent#009_03, repetition: 0\n",
            "Simulating: adolescent#009_04, repetition: 0\n",
            "Simulating: adolescent#009_05, repetition: 0\n",
            "Simulating: adolescent#009_06, repetition: 0\n",
            "Simulating: adolescent#009_07, repetition: 0\n",
            "Simulating: adolescent#009_08, repetition: 0\n",
            "Simulating: adolescent#009_09, repetition: 0\n",
            "Simulating: adolescent#010_00, repetition: 0\n",
            "Simulating: adolescent#010_01, repetition: 0\n",
            "Simulating: adolescent#010_02, repetition: 0\n",
            "Simulating: adolescent#010_03, repetition: 0\n",
            "Simulating: adolescent#010_04, repetition: 0\n",
            "Simulating: adolescent#010_05, repetition: 0\n",
            "Simulating: adolescent#010_06, repetition: 0\n",
            "Simulating: adolescent#010_07, repetition: 0\n",
            "Simulating: adolescent#010_08, repetition: 0\n",
            "Simulating: adolescent#010_09, repetition: 0\n",
            "Simulating: adult#001_00, repetition: 0\n",
            "Simulating: adult#001_01, repetition: 0\n",
            "Simulating: adult#001_02, repetition: 0\n",
            "Simulating: adult#001_03, repetition: 0\n",
            "Simulating: adult#001_04, repetition: 0\n",
            "Simulating: adult#001_05, repetition: 0\n",
            "Simulating: adult#001_06, repetition: 0\n",
            "Simulating: adult#001_07, repetition: 0\n",
            "Simulating: adult#001_08, repetition: 0\n",
            "Simulating: adult#001_09, repetition: 0\n",
            "Simulating: adult#002_00, repetition: 0\n",
            "Simulating: adult#002_01, repetition: 0\n",
            "Simulating: adult#002_02, repetition: 0\n",
            "Simulating: adult#002_03, repetition: 0\n",
            "Simulating: adult#002_04, repetition: 0\n",
            "Simulating: adult#002_05, repetition: 0\n",
            "Simulating: adult#002_06, repetition: 0\n",
            "Simulating: adult#002_07, repetition: 0\n"
          ]
        },
        {
          "output_type": "error",
          "ename": "KeyboardInterrupt",
          "evalue": "ignored",
          "traceback": [
            "\u001b[0;31m---------------------------------------------------------------------------\u001b[0m",
            "\u001b[0;31mKeyboardInterrupt\u001b[0m                         Traceback (most recent call last)",
            "\u001b[0;32m<ipython-input-11-9d371c4b5c14>\u001b[0m in \u001b[0;36m<cell line: 19>\u001b[0;34m()\u001b[0m\n\u001b[1;32m     85\u001b[0m             \u001b[0ms2\u001b[0m \u001b[0;34m=\u001b[0m \u001b[0mSimObj\u001b[0m\u001b[0;34m(\u001b[0m\u001b[0menv\u001b[0m\u001b[0;34m,\u001b[0m \u001b[0mcontroller\u001b[0m\u001b[0;34m,\u001b[0m \u001b[0mtimedelta\u001b[0m\u001b[0;34m(\u001b[0m\u001b[0mdays\u001b[0m\u001b[0;34m=\u001b[0m\u001b[0mmax_days\u001b[0m\u001b[0;34m)\u001b[0m\u001b[0;34m,\u001b[0m \u001b[0manimate\u001b[0m\u001b[0;34m=\u001b[0m\u001b[0;32mFalse\u001b[0m\u001b[0;34m,\u001b[0m \u001b[0mpath\u001b[0m\u001b[0;34m=\u001b[0m\u001b[0mpath\u001b[0m\u001b[0;34m)\u001b[0m\u001b[0;34m\u001b[0m\u001b[0;34m\u001b[0m\u001b[0m\n\u001b[1;32m     86\u001b[0m             \u001b[0;31m#print(env.patient.name)\u001b[0m\u001b[0;34m\u001b[0m\u001b[0;34m\u001b[0m\u001b[0m\n\u001b[0;32m---> 87\u001b[0;31m             \u001b[0ms2\u001b[0m\u001b[0;34m.\u001b[0m\u001b[0msimulate\u001b[0m\u001b[0;34m(\u001b[0m\u001b[0;34m)\u001b[0m\u001b[0;34m\u001b[0m\u001b[0;34m\u001b[0m\u001b[0m\n\u001b[0m\u001b[1;32m     88\u001b[0m             \u001b[0mresults2\u001b[0m\u001b[0;34m=\u001b[0m\u001b[0ms2\u001b[0m\u001b[0;34m.\u001b[0m\u001b[0menv\u001b[0m\u001b[0;34m.\u001b[0m\u001b[0mshow_history\u001b[0m\u001b[0;34m(\u001b[0m\u001b[0;34m)\u001b[0m\u001b[0;34m\u001b[0m\u001b[0;34m\u001b[0m\u001b[0m\n\u001b[1;32m     89\u001b[0m \u001b[0;34m\u001b[0m\u001b[0m\n",
            "\u001b[0;32m/usr/local/lib/python3.10/dist-packages/simglucose/simulation/sim_engine.py\u001b[0m in \u001b[0;36msimulate\u001b[0;34m(self)\u001b[0m\n\u001b[1;32m     35\u001b[0m                 \u001b[0mself\u001b[0m\u001b[0;34m.\u001b[0m\u001b[0menv\u001b[0m\u001b[0;34m.\u001b[0m\u001b[0mrender\u001b[0m\u001b[0;34m(\u001b[0m\u001b[0;34m)\u001b[0m\u001b[0;34m\u001b[0m\u001b[0;34m\u001b[0m\u001b[0m\n\u001b[1;32m     36\u001b[0m             \u001b[0maction\u001b[0m \u001b[0;34m=\u001b[0m \u001b[0mself\u001b[0m\u001b[0;34m.\u001b[0m\u001b[0mcontroller\u001b[0m\u001b[0;34m.\u001b[0m\u001b[0mpolicy\u001b[0m\u001b[0;34m(\u001b[0m\u001b[0mobs\u001b[0m\u001b[0;34m,\u001b[0m \u001b[0mreward\u001b[0m\u001b[0;34m,\u001b[0m \u001b[0mdone\u001b[0m\u001b[0;34m,\u001b[0m \u001b[0;34m**\u001b[0m\u001b[0minfo\u001b[0m\u001b[0;34m)\u001b[0m\u001b[0;34m\u001b[0m\u001b[0;34m\u001b[0m\u001b[0m\n\u001b[0;32m---> 37\u001b[0;31m             \u001b[0mobs\u001b[0m\u001b[0;34m,\u001b[0m \u001b[0mreward\u001b[0m\u001b[0;34m,\u001b[0m \u001b[0mdone\u001b[0m\u001b[0;34m,\u001b[0m \u001b[0minfo\u001b[0m \u001b[0;34m=\u001b[0m \u001b[0mself\u001b[0m\u001b[0;34m.\u001b[0m\u001b[0menv\u001b[0m\u001b[0;34m.\u001b[0m\u001b[0mstep\u001b[0m\u001b[0;34m(\u001b[0m\u001b[0maction\u001b[0m\u001b[0;34m)\u001b[0m\u001b[0;34m\u001b[0m\u001b[0;34m\u001b[0m\u001b[0m\n\u001b[0m\u001b[1;32m     38\u001b[0m         \u001b[0mtoc\u001b[0m \u001b[0;34m=\u001b[0m \u001b[0mtime\u001b[0m\u001b[0;34m.\u001b[0m\u001b[0mtime\u001b[0m\u001b[0;34m(\u001b[0m\u001b[0;34m)\u001b[0m\u001b[0;34m\u001b[0m\u001b[0;34m\u001b[0m\u001b[0m\n\u001b[1;32m     39\u001b[0m         \u001b[0mlogger\u001b[0m\u001b[0;34m.\u001b[0m\u001b[0minfo\u001b[0m\u001b[0;34m(\u001b[0m\u001b[0;34m'Simulation took {} seconds.'\u001b[0m\u001b[0;34m.\u001b[0m\u001b[0mformat\u001b[0m\u001b[0;34m(\u001b[0m\u001b[0mtoc\u001b[0m \u001b[0;34m-\u001b[0m \u001b[0mtic\u001b[0m\u001b[0;34m)\u001b[0m\u001b[0;34m)\u001b[0m\u001b[0;34m\u001b[0m\u001b[0;34m\u001b[0m\u001b[0m\n",
            "\u001b[0;32m/usr/local/lib/python3.10/dist-packages/simglucose/simulation/env.py\u001b[0m in \u001b[0;36mstep\u001b[0;34m(self, action, reward_fun)\u001b[0m\n\u001b[1;32m     75\u001b[0m         \u001b[0;32mfor\u001b[0m \u001b[0m_\u001b[0m \u001b[0;32min\u001b[0m \u001b[0mrange\u001b[0m\u001b[0;34m(\u001b[0m\u001b[0mint\u001b[0m\u001b[0;34m(\u001b[0m\u001b[0mself\u001b[0m\u001b[0;34m.\u001b[0m\u001b[0msample_time\u001b[0m\u001b[0;34m)\u001b[0m\u001b[0;34m)\u001b[0m\u001b[0;34m:\u001b[0m\u001b[0;34m\u001b[0m\u001b[0;34m\u001b[0m\u001b[0m\n\u001b[1;32m     76\u001b[0m             \u001b[0;31m# Compute moving average as the sample measurements\u001b[0m\u001b[0;34m\u001b[0m\u001b[0;34m\u001b[0m\u001b[0m\n\u001b[0;32m---> 77\u001b[0;31m             \u001b[0mtmp_CHO\u001b[0m\u001b[0;34m,\u001b[0m \u001b[0mtmp_insulin\u001b[0m\u001b[0;34m,\u001b[0m \u001b[0mtmp_BG\u001b[0m\u001b[0;34m,\u001b[0m \u001b[0mtmp_CGM\u001b[0m \u001b[0;34m=\u001b[0m \u001b[0mself\u001b[0m\u001b[0;34m.\u001b[0m\u001b[0mmini_step\u001b[0m\u001b[0;34m(\u001b[0m\u001b[0maction\u001b[0m\u001b[0;34m)\u001b[0m\u001b[0;34m\u001b[0m\u001b[0;34m\u001b[0m\u001b[0m\n\u001b[0m\u001b[1;32m     78\u001b[0m             \u001b[0mCHO\u001b[0m \u001b[0;34m+=\u001b[0m \u001b[0mtmp_CHO\u001b[0m \u001b[0;34m/\u001b[0m \u001b[0mself\u001b[0m\u001b[0;34m.\u001b[0m\u001b[0msample_time\u001b[0m\u001b[0;34m\u001b[0m\u001b[0;34m\u001b[0m\u001b[0m\n\u001b[1;32m     79\u001b[0m             \u001b[0minsulin\u001b[0m \u001b[0;34m+=\u001b[0m \u001b[0mtmp_insulin\u001b[0m \u001b[0;34m/\u001b[0m \u001b[0mself\u001b[0m\u001b[0;34m.\u001b[0m\u001b[0msample_time\u001b[0m\u001b[0;34m\u001b[0m\u001b[0;34m\u001b[0m\u001b[0m\n",
            "\u001b[0;32m/usr/local/lib/python3.10/dist-packages/simglucose/simulation/env.py\u001b[0m in \u001b[0;36mmini_step\u001b[0;34m(self, action)\u001b[0m\n\u001b[1;32m     48\u001b[0m     \u001b[0;32mdef\u001b[0m \u001b[0mmini_step\u001b[0m\u001b[0;34m(\u001b[0m\u001b[0mself\u001b[0m\u001b[0;34m,\u001b[0m \u001b[0maction\u001b[0m\u001b[0;34m)\u001b[0m\u001b[0;34m:\u001b[0m\u001b[0;34m\u001b[0m\u001b[0;34m\u001b[0m\u001b[0m\n\u001b[1;32m     49\u001b[0m         \u001b[0;31m# current action\u001b[0m\u001b[0;34m\u001b[0m\u001b[0;34m\u001b[0m\u001b[0m\n\u001b[0;32m---> 50\u001b[0;31m         \u001b[0mpatient_action\u001b[0m \u001b[0;34m=\u001b[0m \u001b[0mself\u001b[0m\u001b[0;34m.\u001b[0m\u001b[0mscenario\u001b[0m\u001b[0;34m.\u001b[0m\u001b[0mget_action\u001b[0m\u001b[0;34m(\u001b[0m\u001b[0mself\u001b[0m\u001b[0;34m.\u001b[0m\u001b[0mtime\u001b[0m\u001b[0;34m)\u001b[0m\u001b[0;34m\u001b[0m\u001b[0;34m\u001b[0m\u001b[0m\n\u001b[0m\u001b[1;32m     51\u001b[0m         \u001b[0mbasal\u001b[0m \u001b[0;34m=\u001b[0m \u001b[0mself\u001b[0m\u001b[0;34m.\u001b[0m\u001b[0mpump\u001b[0m\u001b[0;34m.\u001b[0m\u001b[0mbasal\u001b[0m\u001b[0;34m(\u001b[0m\u001b[0maction\u001b[0m\u001b[0;34m.\u001b[0m\u001b[0mbasal\u001b[0m\u001b[0;34m)\u001b[0m\u001b[0;34m\u001b[0m\u001b[0;34m\u001b[0m\u001b[0m\n\u001b[1;32m     52\u001b[0m         \u001b[0mbolus\u001b[0m \u001b[0;34m=\u001b[0m \u001b[0mself\u001b[0m\u001b[0;34m.\u001b[0m\u001b[0mpump\u001b[0m\u001b[0;34m.\u001b[0m\u001b[0mbolus\u001b[0m\u001b[0;34m(\u001b[0m\u001b[0maction\u001b[0m\u001b[0;34m.\u001b[0m\u001b[0mbolus\u001b[0m\u001b[0;34m)\u001b[0m\u001b[0;34m\u001b[0m\u001b[0;34m\u001b[0m\u001b[0m\n",
            "\u001b[0;32m/usr/local/lib/python3.10/dist-packages/simglucose/simulation/scenario.py\u001b[0m in \u001b[0;36mget_action\u001b[0;34m(self, t)\u001b[0m\n\u001b[1;32m     37\u001b[0m             \u001b[0mtimes\u001b[0m\u001b[0;34m,\u001b[0m \u001b[0mactions\u001b[0m \u001b[0;34m=\u001b[0m \u001b[0mtuple\u001b[0m\u001b[0;34m(\u001b[0m\u001b[0mzip\u001b[0m\u001b[0;34m(\u001b[0m\u001b[0;34m*\u001b[0m\u001b[0mself\u001b[0m\u001b[0;34m.\u001b[0m\u001b[0mscenario\u001b[0m\u001b[0;34m)\u001b[0m\u001b[0;34m)\u001b[0m\u001b[0;34m\u001b[0m\u001b[0;34m\u001b[0m\u001b[0m\n\u001b[1;32m     38\u001b[0m             \u001b[0mtimes2compare\u001b[0m \u001b[0;34m=\u001b[0m \u001b[0;34m[\u001b[0m\u001b[0mparseTime\u001b[0m\u001b[0;34m(\u001b[0m\u001b[0mtime\u001b[0m\u001b[0;34m,\u001b[0m \u001b[0mself\u001b[0m\u001b[0;34m.\u001b[0m\u001b[0mstart_time\u001b[0m\u001b[0;34m)\u001b[0m \u001b[0;32mfor\u001b[0m \u001b[0mtime\u001b[0m \u001b[0;32min\u001b[0m \u001b[0mtimes\u001b[0m\u001b[0;34m]\u001b[0m\u001b[0;34m\u001b[0m\u001b[0;34m\u001b[0m\u001b[0m\n\u001b[0;32m---> 39\u001b[0;31m             \u001b[0;32mif\u001b[0m \u001b[0mt\u001b[0m \u001b[0;32min\u001b[0m \u001b[0mtimes2compare\u001b[0m\u001b[0;34m:\u001b[0m\u001b[0;34m\u001b[0m\u001b[0;34m\u001b[0m\u001b[0m\n\u001b[0m\u001b[1;32m     40\u001b[0m                 \u001b[0midx\u001b[0m \u001b[0;34m=\u001b[0m \u001b[0mtimes2compare\u001b[0m\u001b[0;34m.\u001b[0m\u001b[0mindex\u001b[0m\u001b[0;34m(\u001b[0m\u001b[0mt\u001b[0m\u001b[0;34m)\u001b[0m\u001b[0;34m\u001b[0m\u001b[0;34m\u001b[0m\u001b[0m\n\u001b[1;32m     41\u001b[0m                 \u001b[0;32mreturn\u001b[0m \u001b[0mAction\u001b[0m\u001b[0;34m(\u001b[0m\u001b[0mmeal\u001b[0m\u001b[0;34m=\u001b[0m\u001b[0mactions\u001b[0m\u001b[0;34m[\u001b[0m\u001b[0midx\u001b[0m\u001b[0;34m]\u001b[0m\u001b[0;34m)\u001b[0m\u001b[0;34m\u001b[0m\u001b[0;34m\u001b[0m\u001b[0m\n",
            "\u001b[0;31mKeyboardInterrupt\u001b[0m: "
          ]
        }
      ]
    }
  ]
}